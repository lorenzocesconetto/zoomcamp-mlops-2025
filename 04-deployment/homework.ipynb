{
 "cells": [
  {
   "cell_type": "markdown",
   "id": "7956cb72",
   "metadata": {},
   "source": [
    "# Homework 4: Deployment\n",
    "\n",
    "## By: Lorenzo Cesconetto\n",
    "\n",
    "Check out all the questions [here](https://github.com/DataTalksClub/mlops-zoomcamp/blob/main/cohorts/2025/04-deployment/homework.md).\n"
   ]
  },
  {
   "cell_type": "code",
   "execution_count": 31,
   "id": "2548f71a",
   "metadata": {},
   "outputs": [],
   "source": [
    "import pandas as pd\n",
    "import pickle\n",
    "import numpy as np\n",
    "import os"
   ]
  },
  {
   "cell_type": "markdown",
   "id": "93592a49",
   "metadata": {},
   "source": [
    "## Q1. Notebook\n",
    "\n",
    "We'll start with the same notebook we ended up with in homework 1.\n",
    "We cleaned it a little bit and kept only the scoring part. You can find the initial notebook [here](homework/starter.ipynb).\n",
    "\n",
    "Run this notebook for the March 2023 data.\n",
    "\n",
    "What's the standard deviation of the predicted duration for this dataset?\n",
    "\n",
    "- 1.24\n",
    "- 6.24\n",
    "- 12.28\n",
    "- 18.28\n"
   ]
  },
  {
   "cell_type": "code",
   "execution_count": 7,
   "id": "4d35ccb5",
   "metadata": {},
   "outputs": [
    {
     "name": "stderr",
     "output_type": "stream",
     "text": [
      "/Users/lorenzocesconetto/Developer/Tutorials/zoomcamp-mlops-2025/.venv/lib/python3.12/site-packages/sklearn/base.py:380: InconsistentVersionWarning: Trying to unpickle estimator DictVectorizer from version 1.5.0 when using version 1.6.1. This might lead to breaking code or invalid results. Use at your own risk. For more info please refer to:\n",
      "https://scikit-learn.org/stable/model_persistence.html#security-maintainability-limitations\n",
      "  warnings.warn(\n",
      "/Users/lorenzocesconetto/Developer/Tutorials/zoomcamp-mlops-2025/.venv/lib/python3.12/site-packages/sklearn/base.py:380: InconsistentVersionWarning: Trying to unpickle estimator LinearRegression from version 1.5.0 when using version 1.6.1. This might lead to breaking code or invalid results. Use at your own risk. For more info please refer to:\n",
      "https://scikit-learn.org/stable/model_persistence.html#security-maintainability-limitations\n",
      "  warnings.warn(\n"
     ]
    }
   ],
   "source": [
    "with open(\"model.bin\", \"rb\") as f_in:\n",
    "    dv, model = pickle.load(f_in)"
   ]
  },
  {
   "cell_type": "code",
   "execution_count": 8,
   "id": "59077e0f",
   "metadata": {},
   "outputs": [],
   "source": [
    "categorical = [\"PULocationID\", \"DOLocationID\"]\n",
    "\n",
    "\n",
    "def read_data(year: int = 2023, month: int = 3, type: str = \"yellow\"):\n",
    "    df = pd.read_parquet(\n",
    "        f\"https://d37ci6vzurychx.cloudfront.net/trip-data/{type}_tripdata_{year:04d}-{month:02d}.parquet\"\n",
    "    )\n",
    "\n",
    "    df[\"duration\"] = df.tpep_dropoff_datetime - df.tpep_pickup_datetime\n",
    "    df[\"duration\"] = df.duration.dt.total_seconds() / 60\n",
    "\n",
    "    df = df[(df.duration >= 1) & (df.duration <= 60)].copy()\n",
    "\n",
    "    df[categorical] = df[categorical].fillna(-1).astype(\"int\").astype(\"str\")\n",
    "\n",
    "    return df"
   ]
  },
  {
   "cell_type": "code",
   "execution_count": null,
   "id": "8588a675",
   "metadata": {},
   "outputs": [],
   "source": [
    "year = 2023\n",
    "month = 3\n",
    "df = read_data(year, month, \"yellow\")"
   ]
  },
  {
   "cell_type": "code",
   "execution_count": 17,
   "id": "f31d8465",
   "metadata": {},
   "outputs": [],
   "source": [
    "dicts = df[categorical].to_dict(orient=\"records\")\n",
    "X_val = dv.transform(dicts)\n",
    "y_pred = model.predict(X_val)"
   ]
  },
  {
   "cell_type": "code",
   "execution_count": 21,
   "id": "a9ace119",
   "metadata": {},
   "outputs": [
    {
     "name": "stdout",
     "output_type": "stream",
     "text": [
      "Standard deviation of duration predictions: 6.247\n"
     ]
    }
   ],
   "source": [
    "print(f\"Standard deviation of duration predictions: {np.std(y_pred):.3f}\")"
   ]
  },
  {
   "cell_type": "markdown",
   "id": "0815b73e",
   "metadata": {},
   "source": [
    "## Q2. Preparing the output\n",
    "\n",
    "Like in the course videos, we want to prepare the dataframe with the output.\n",
    "\n",
    "First, let's create an artificial `ride_id` column:\n",
    "\n",
    "```python\n",
    "df['ride_id'] = f'{year:04d}/{month:02d}_' + df.index.astype('str')\n",
    "```\n",
    "\n",
    "Next, write the ride id and the predictions to a dataframe with results.\n",
    "\n",
    "Save it as parquet:\n",
    "\n",
    "```python\n",
    "df_result.to_parquet(\n",
    "    output_file,\n",
    "    engine='pyarrow',\n",
    "    compression=None,\n",
    "    index=False\n",
    ")\n",
    "```\n",
    "\n",
    "What's the size of the output file?\n",
    "\n",
    "- 36M\n",
    "- 46M\n",
    "- 56M\n",
    "- 66M\n",
    "\n",
    "**Note:** Make sure you use the snippet above for saving the file. It should contain only these two columns. For this question, don't change the\n",
    "dtypes of the columns and use `pyarrow`, not `fastparquet`.\n"
   ]
  },
  {
   "cell_type": "code",
   "execution_count": null,
   "id": "4077834c",
   "metadata": {},
   "outputs": [],
   "source": [
    "df[\"prediction\"] = y_pred"
   ]
  },
  {
   "cell_type": "code",
   "execution_count": 23,
   "id": "413c2b74",
   "metadata": {},
   "outputs": [],
   "source": [
    "df[\"ride_id\"] = f\"{year:04d}/{month:02d}_\" + df.index.astype(\"str\")"
   ]
  },
  {
   "cell_type": "code",
   "execution_count": 30,
   "id": "81399a19",
   "metadata": {},
   "outputs": [],
   "source": [
    "file_name = \"tmp_data.parquet\"\n",
    "df[[\"ride_id\", \"prediction\"]].to_parquet(\n",
    "    file_name,\n",
    "    engine=\"pyarrow\",\n",
    "    compression=None,\n",
    "    index=False,\n",
    ")"
   ]
  },
  {
   "cell_type": "code",
   "execution_count": 36,
   "id": "eadbb735",
   "metadata": {},
   "outputs": [
    {
     "name": "stdout",
     "output_type": "stream",
     "text": [
      "File size: 65.5 Mb\n"
     ]
    }
   ],
   "source": [
    "print(f\"File size: {os.path.getsize(file_name) / 1024 ** 2:.1f} Mb\")"
   ]
  },
  {
   "cell_type": "markdown",
   "id": "5823b405",
   "metadata": {},
   "source": [
    "## Q3. Creating the scoring script\n",
    "\n",
    "Now let's turn the notebook into a script.\n",
    "\n",
    "Which command you need to execute for that?\n"
   ]
  },
  {
   "cell_type": "code",
   "execution_count": 38,
   "id": "2f8a021d",
   "metadata": {},
   "outputs": [
    {
     "name": "stdout",
     "output_type": "stream",
     "text": [
      "[NbConvertApp] Converting notebook homework.ipynb to script\n",
      "[NbConvertApp] Writing 3537 bytes to homework.py\n"
     ]
    }
   ],
   "source": [
    "!jupyter nbconvert --to script homework.ipynb\n",
    "!jupyter nbconvert --to script starter.ipynb"
   ]
  },
  {
   "cell_type": "markdown",
   "id": "be76b9d7",
   "metadata": {},
   "source": [
    "## Q4. Virtual environment\n",
    "\n",
    "Now let's put everything into a virtual environment. We'll use pipenv for that.\n",
    "\n",
    "Install all the required libraries. Pay attention to the Scikit-Learn version: it should be the same as in the starter\n",
    "notebook.\n",
    "\n",
    "After installing the libraries, pipenv creates two files: `Pipfile`\n",
    "and `Pipfile.lock`. The `Pipfile.lock` file keeps the hashes of the\n",
    "dependencies we use for the virtual env.\n",
    "\n",
    "What's the first hash for the Scikit-Learn dependency?\n"
   ]
  },
  {
   "cell_type": "code",
   "execution_count": 39,
   "id": "d69d4272",
   "metadata": {},
   "outputs": [
    {
     "name": "stdout",
     "output_type": "stream",
     "text": [
      "Scikit-Learn first hash: sha256:057b991ac64b3e75c9c04b5f9395eaf19a6179244c089afdebaad98264bff37c\n"
     ]
    }
   ],
   "source": [
    "print(\n",
    "    \"Scikit-Learn first hash: sha256:057b991ac64b3e75c9c04b5f9395eaf19a6179244c089afdebaad98264bff37c\"\n",
    ")"
   ]
  },
  {
   "cell_type": "markdown",
   "id": "058a7a8e",
   "metadata": {},
   "source": [
    "## Q5. Parametrize the script\n",
    "\n",
    "Let's now make the script configurable via CLI. We'll create two\n",
    "parameters: year and month.\n",
    "\n",
    "Run the script for April 2023.\n",
    "\n",
    "What's the mean predicted duration?\n",
    "\n",
    "- 7.29\n",
    "- 14.29\n",
    "- 21.29\n",
    "- 28.29\n",
    "\n",
    "Hint: just add a print statement to your script.\n"
   ]
  },
  {
   "cell_type": "code",
   "execution_count": 40,
   "id": "54ab328d",
   "metadata": {},
   "outputs": [
    {
     "name": "stdout",
     "output_type": "stream",
     "text": [
      "Standard deviation of duration predictions: 6.354\n"
     ]
    }
   ],
   "source": [
    "!python homework.py --year 2023 --month 4"
   ]
  },
  {
   "cell_type": "markdown",
   "id": "65f68d60",
   "metadata": {},
   "source": [
    "## Q6. Docker container\n",
    "\n",
    "Finally, we'll package the script in the docker container.\n",
    "For that, you'll need to use a base image that we prepared.\n",
    "\n",
    "This is what the content of this image is:\n",
    "\n",
    "```dockerfile\n",
    "FROM python:3.10.13-slim\n",
    "\n",
    "WORKDIR /app\n",
    "COPY [ \"model2.bin\", \"model.bin\" ]\n",
    "```\n",
    "\n",
    "Note: you don't need to run it. We have already done it.\n",
    "\n",
    "It is pushed to [`agrigorev/zoomcamp-model:mlops-2024-3.10.13-slim`](https://hub.docker.com/layers/agrigorev/zoomcamp-model/mlops-2024-3.10.13-slim/images/sha256-f54535b73a8c3ef91967d5588de57d4e251b22addcbbfb6e71304a91c1c7027f?context=repo),\n",
    "which you need to use as your base image.\n",
    "\n",
    "That is, your Dockerfile should start with:\n",
    "\n",
    "```dockerfile\n",
    "FROM agrigorev/zoomcamp-model:mlops-2024-3.10.13-slim\n",
    "\n",
    "# do stuff here\n",
    "```\n",
    "\n",
    "This image already has a pickle file with a dictionary vectorizer\n",
    "and a model. You will need to use them.\n",
    "\n",
    "Important: don't copy the model to the docker image. You will need\n",
    "to use the pickle file already in the image.\n",
    "\n",
    "Now run the script with docker. What's the mean predicted duration\n",
    "for May 2023?\n",
    "\n",
    "- 0.19\n",
    "- 7.24\n",
    "- 14.24\n",
    "- 21.19\n"
   ]
  },
  {
   "cell_type": "code",
   "execution_count": 42,
   "id": "e749eb5f",
   "metadata": {},
   "outputs": [
    {
     "name": "stdout",
     "output_type": "stream",
     "text": [
      "Mean predicted duration: 0.192\n"
     ]
    }
   ],
   "source": [
    "print(\"Mean predicted duration: 0.192\")"
   ]
  },
  {
   "cell_type": "markdown",
   "id": "4bb6e115",
   "metadata": {},
   "source": [
    "## Bonus: upload the result to the cloud (Not graded)\n",
    "\n",
    "Just printing the mean duration inside the docker image\n",
    "doesn't seem very practical. Typically, after creating the output\n",
    "file, we upload it to the cloud storage.\n",
    "\n",
    "Modify your code to upload the parquet file to S3/GCS/etc.\n",
    "\n",
    "## Bonus: Use an orchestrator for batch inference\n",
    "\n",
    "Here we didn't use any orchestration. In practice we usually do.\n",
    "\n",
    "- Split the code into logical code blocks\n",
    "- Use a workflow orchestrator for the code execution\n",
    "\n",
    "## Publishing the image to dockerhub\n",
    "\n",
    "This is how we published the image to Docker hub:\n",
    "\n",
    "```bash\n",
    "docker build -t mlops-zoomcamp-model:2024-3.10.13-slim .\n",
    "docker tag mlops-zoomcamp-model:2024-3.10.13-slim agrigorev/zoomcamp-model:mlops-2024-3.10.13-slim\n",
    "\n",
    "docker login --username USERNAME\n",
    "docker push agrigorev/zoomcamp-model:mlops-2024-3.10.13-slim\n",
    "```\n",
    "\n",
    "This is just for your reference, you don't need to do it.\n",
    "\n",
    "## Submit the results\n",
    "\n",
    "- Submit your results here: https://courses.datatalks.club/mlops-zoomcamp-2025/homework/hw4\n",
    "- It's possible that your answers won't match exactly. If it's the case, select the closest one.\n"
   ]
  }
 ],
 "metadata": {
  "kernelspec": {
   "display_name": ".venv",
   "language": "python",
   "name": "python3"
  },
  "language_info": {
   "codemirror_mode": {
    "name": "ipython",
    "version": 3
   },
   "file_extension": ".py",
   "mimetype": "text/x-python",
   "name": "python",
   "nbconvert_exporter": "python",
   "pygments_lexer": "ipython3",
   "version": "3.12.11"
  }
 },
 "nbformat": 4,
 "nbformat_minor": 5
}
