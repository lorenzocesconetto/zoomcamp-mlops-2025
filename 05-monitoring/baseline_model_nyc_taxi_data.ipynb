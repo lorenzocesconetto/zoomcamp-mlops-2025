{
 "cells": [
  {
   "cell_type": "markdown",
   "id": "edab3cd3-e5a8-4b63-8b8d-c9ef758571b8",
   "metadata": {},
   "source": [
    "# Baseline model for batch monitoring example\n"
   ]
  },
  {
   "cell_type": "code",
   "execution_count": 1,
   "id": "b54264e6eb117908",
   "metadata": {},
   "outputs": [],
   "source": [
    "import requests\n",
    "import datetime\n",
    "import pandas as pd\n",
    "\n",
    "from evidently import DataDefinition\n",
    "from evidently import Dataset\n",
    "from evidently import Report\n",
    "from evidently.metrics import (\n",
    "    ValueDrift,\n",
    "    DriftedColumnsCount,\n",
    "    MissingValueCount,\n",
    "    QuantileValue,\n",
    "    DuplicatedRowCount,\n",
    ")\n",
    "\n",
    "from joblib import load, dump\n",
    "from tqdm import tqdm\n",
    "\n",
    "from sklearn.linear_model import LinearRegression\n",
    "from sklearn.metrics import mean_absolute_error, mean_absolute_percentage_error"
   ]
  },
  {
   "cell_type": "code",
   "execution_count": 2,
   "id": "46aeb5ac-bfb7-4fe4-b732-6bf372ba2e95",
   "metadata": {},
   "outputs": [],
   "source": [
    "! mkdir data"
   ]
  },
  {
   "cell_type": "code",
   "execution_count": 2,
   "id": "c935a6bc588248d7",
   "metadata": {},
   "outputs": [
    {
     "name": "stdout",
     "output_type": "stream",
     "text": [
      "Download files:\n"
     ]
    },
    {
     "name": "stderr",
     "output_type": "stream",
     "text": [
      "green_tripdata_2024-03.parquet: 100%|██████████| 1372372/1372372 [00:03<00:00, 406842.11it/s, save to ./data/green_tripdata_2024-03.parquet]\n",
      "green_tripdata_2022-01.parquet: 100%|██████████| 1254291/1254291 [00:03<00:00, 412060.43it/s, save to ./data/green_tripdata_2022-01.parquet]\n"
     ]
    }
   ],
   "source": [
    "files = [\n",
    "    (\"green_tripdata_2024-03.parquet\", \"./data\"),\n",
    "    (\"green_tripdata_2022-01.parquet\", \"./data\"),\n",
    "]\n",
    "\n",
    "print(\"Download files:\")\n",
    "for file, path in files:\n",
    "    url = f\"https://d37ci6vzurychx.cloudfront.net/trip-data/{file}\"\n",
    "    resp = requests.get(url, stream=True)\n",
    "    save_path = f\"{path}/{file}\"\n",
    "    with open(save_path, \"wb\") as handle:\n",
    "        for data in tqdm(\n",
    "            resp.iter_content(),\n",
    "            desc=f\"{file}\",\n",
    "            postfix=f\"save to {save_path}\",\n",
    "            total=int(resp.headers[\"Content-Length\"]),\n",
    "        ):\n",
    "            handle.write(data)"
   ]
  },
  {
   "cell_type": "code",
   "execution_count": 9,
   "id": "281a27332b636f09",
   "metadata": {},
   "outputs": [],
   "source": [
    "def prepare_data(df):\n",
    "    # create target\n",
    "    df[\"duration_min\"] = df.lpep_dropoff_datetime - df.lpep_pickup_datetime\n",
    "    df.duration_min = df.duration_min.apply(lambda td: float(td.total_seconds()) / 60)\n",
    "    # filter out outliers\n",
    "    df = df[(df.duration_min >= 0) & (df.duration_min <= 60)]\n",
    "    df = df[(df.passenger_count > 0) & (df.passenger_count <= 8)]\n",
    "    return df"
   ]
  },
  {
   "cell_type": "code",
   "execution_count": 10,
   "id": "10f4d69997668ea8",
   "metadata": {},
   "outputs": [],
   "source": [
    "train_data = prepare_data(pd.read_parquet(\"data/green_tripdata_2022-01.parquet\"))\n",
    "val_data = prepare_data(pd.read_parquet(\"data/green_tripdata_2024-03.parquet\"))"
   ]
  },
  {
   "cell_type": "code",
   "execution_count": 11,
   "id": "1c36e0ebfb0879ec",
   "metadata": {},
   "outputs": [],
   "source": [
    "# data labeling\n",
    "target = \"duration_min\"\n",
    "num_features = [\"passenger_count\", \"trip_distance\", \"fare_amount\", \"total_amount\"]\n",
    "cat_features = [\"PULocationID\", \"DOLocationID\"]"
   ]
  },
  {
   "cell_type": "code",
   "execution_count": null,
   "id": "2071678344a3f82e",
   "metadata": {},
   "outputs": [
    {
     "data": {
      "text/html": [
       "<style>#sk-container-id-1 {\n",
       "  /* Definition of color scheme common for light and dark mode */\n",
       "  --sklearn-color-text: black;\n",
       "  --sklearn-color-line: gray;\n",
       "  /* Definition of color scheme for unfitted estimators */\n",
       "  --sklearn-color-unfitted-level-0: #fff5e6;\n",
       "  --sklearn-color-unfitted-level-1: #f6e4d2;\n",
       "  --sklearn-color-unfitted-level-2: #ffe0b3;\n",
       "  --sklearn-color-unfitted-level-3: chocolate;\n",
       "  /* Definition of color scheme for fitted estimators */\n",
       "  --sklearn-color-fitted-level-0: #f0f8ff;\n",
       "  --sklearn-color-fitted-level-1: #d4ebff;\n",
       "  --sklearn-color-fitted-level-2: #b3dbfd;\n",
       "  --sklearn-color-fitted-level-3: cornflowerblue;\n",
       "\n",
       "  /* Specific color for light theme */\n",
       "  --sklearn-color-text-on-default-background: var(--sg-text-color, var(--theme-code-foreground, var(--jp-content-font-color1, black)));\n",
       "  --sklearn-color-background: var(--sg-background-color, var(--theme-background, var(--jp-layout-color0, white)));\n",
       "  --sklearn-color-border-box: var(--sg-text-color, var(--theme-code-foreground, var(--jp-content-font-color1, black)));\n",
       "  --sklearn-color-icon: #696969;\n",
       "\n",
       "  @media (prefers-color-scheme: dark) {\n",
       "    /* Redefinition of color scheme for dark theme */\n",
       "    --sklearn-color-text-on-default-background: var(--sg-text-color, var(--theme-code-foreground, var(--jp-content-font-color1, white)));\n",
       "    --sklearn-color-background: var(--sg-background-color, var(--theme-background, var(--jp-layout-color0, #111)));\n",
       "    --sklearn-color-border-box: var(--sg-text-color, var(--theme-code-foreground, var(--jp-content-font-color1, white)));\n",
       "    --sklearn-color-icon: #878787;\n",
       "  }\n",
       "}\n",
       "\n",
       "#sk-container-id-1 {\n",
       "  color: var(--sklearn-color-text);\n",
       "}\n",
       "\n",
       "#sk-container-id-1 pre {\n",
       "  padding: 0;\n",
       "}\n",
       "\n",
       "#sk-container-id-1 input.sk-hidden--visually {\n",
       "  border: 0;\n",
       "  clip: rect(1px 1px 1px 1px);\n",
       "  clip: rect(1px, 1px, 1px, 1px);\n",
       "  height: 1px;\n",
       "  margin: -1px;\n",
       "  overflow: hidden;\n",
       "  padding: 0;\n",
       "  position: absolute;\n",
       "  width: 1px;\n",
       "}\n",
       "\n",
       "#sk-container-id-1 div.sk-dashed-wrapped {\n",
       "  border: 1px dashed var(--sklearn-color-line);\n",
       "  margin: 0 0.4em 0.5em 0.4em;\n",
       "  box-sizing: border-box;\n",
       "  padding-bottom: 0.4em;\n",
       "  background-color: var(--sklearn-color-background);\n",
       "}\n",
       "\n",
       "#sk-container-id-1 div.sk-container {\n",
       "  /* jupyter's `normalize.less` sets `[hidden] { display: none; }`\n",
       "     but bootstrap.min.css set `[hidden] { display: none !important; }`\n",
       "     so we also need the `!important` here to be able to override the\n",
       "     default hidden behavior on the sphinx rendered scikit-learn.org.\n",
       "     See: https://github.com/scikit-learn/scikit-learn/issues/21755 */\n",
       "  display: inline-block !important;\n",
       "  position: relative;\n",
       "}\n",
       "\n",
       "#sk-container-id-1 div.sk-text-repr-fallback {\n",
       "  display: none;\n",
       "}\n",
       "\n",
       "div.sk-parallel-item,\n",
       "div.sk-serial,\n",
       "div.sk-item {\n",
       "  /* draw centered vertical line to link estimators */\n",
       "  background-image: linear-gradient(var(--sklearn-color-text-on-default-background), var(--sklearn-color-text-on-default-background));\n",
       "  background-size: 2px 100%;\n",
       "  background-repeat: no-repeat;\n",
       "  background-position: center center;\n",
       "}\n",
       "\n",
       "/* Parallel-specific style estimator block */\n",
       "\n",
       "#sk-container-id-1 div.sk-parallel-item::after {\n",
       "  content: \"\";\n",
       "  width: 100%;\n",
       "  border-bottom: 2px solid var(--sklearn-color-text-on-default-background);\n",
       "  flex-grow: 1;\n",
       "}\n",
       "\n",
       "#sk-container-id-1 div.sk-parallel {\n",
       "  display: flex;\n",
       "  align-items: stretch;\n",
       "  justify-content: center;\n",
       "  background-color: var(--sklearn-color-background);\n",
       "  position: relative;\n",
       "}\n",
       "\n",
       "#sk-container-id-1 div.sk-parallel-item {\n",
       "  display: flex;\n",
       "  flex-direction: column;\n",
       "}\n",
       "\n",
       "#sk-container-id-1 div.sk-parallel-item:first-child::after {\n",
       "  align-self: flex-end;\n",
       "  width: 50%;\n",
       "}\n",
       "\n",
       "#sk-container-id-1 div.sk-parallel-item:last-child::after {\n",
       "  align-self: flex-start;\n",
       "  width: 50%;\n",
       "}\n",
       "\n",
       "#sk-container-id-1 div.sk-parallel-item:only-child::after {\n",
       "  width: 0;\n",
       "}\n",
       "\n",
       "/* Serial-specific style estimator block */\n",
       "\n",
       "#sk-container-id-1 div.sk-serial {\n",
       "  display: flex;\n",
       "  flex-direction: column;\n",
       "  align-items: center;\n",
       "  background-color: var(--sklearn-color-background);\n",
       "  padding-right: 1em;\n",
       "  padding-left: 1em;\n",
       "}\n",
       "\n",
       "\n",
       "/* Toggleable style: style used for estimator/Pipeline/ColumnTransformer box that is\n",
       "clickable and can be expanded/collapsed.\n",
       "- Pipeline and ColumnTransformer use this feature and define the default style\n",
       "- Estimators will overwrite some part of the style using the `sk-estimator` class\n",
       "*/\n",
       "\n",
       "/* Pipeline and ColumnTransformer style (default) */\n",
       "\n",
       "#sk-container-id-1 div.sk-toggleable {\n",
       "  /* Default theme specific background. It is overwritten whether we have a\n",
       "  specific estimator or a Pipeline/ColumnTransformer */\n",
       "  background-color: var(--sklearn-color-background);\n",
       "}\n",
       "\n",
       "/* Toggleable label */\n",
       "#sk-container-id-1 label.sk-toggleable__label {\n",
       "  cursor: pointer;\n",
       "  display: block;\n",
       "  width: 100%;\n",
       "  margin-bottom: 0;\n",
       "  padding: 0.5em;\n",
       "  box-sizing: border-box;\n",
       "  text-align: center;\n",
       "}\n",
       "\n",
       "#sk-container-id-1 label.sk-toggleable__label-arrow:before {\n",
       "  /* Arrow on the left of the label */\n",
       "  content: \"▸\";\n",
       "  float: left;\n",
       "  margin-right: 0.25em;\n",
       "  color: var(--sklearn-color-icon);\n",
       "}\n",
       "\n",
       "#sk-container-id-1 label.sk-toggleable__label-arrow:hover:before {\n",
       "  color: var(--sklearn-color-text);\n",
       "}\n",
       "\n",
       "/* Toggleable content - dropdown */\n",
       "\n",
       "#sk-container-id-1 div.sk-toggleable__content {\n",
       "  max-height: 0;\n",
       "  max-width: 0;\n",
       "  overflow: hidden;\n",
       "  text-align: left;\n",
       "  /* unfitted */\n",
       "  background-color: var(--sklearn-color-unfitted-level-0);\n",
       "}\n",
       "\n",
       "#sk-container-id-1 div.sk-toggleable__content.fitted {\n",
       "  /* fitted */\n",
       "  background-color: var(--sklearn-color-fitted-level-0);\n",
       "}\n",
       "\n",
       "#sk-container-id-1 div.sk-toggleable__content pre {\n",
       "  margin: 0.2em;\n",
       "  border-radius: 0.25em;\n",
       "  color: var(--sklearn-color-text);\n",
       "  /* unfitted */\n",
       "  background-color: var(--sklearn-color-unfitted-level-0);\n",
       "}\n",
       "\n",
       "#sk-container-id-1 div.sk-toggleable__content.fitted pre {\n",
       "  /* unfitted */\n",
       "  background-color: var(--sklearn-color-fitted-level-0);\n",
       "}\n",
       "\n",
       "#sk-container-id-1 input.sk-toggleable__control:checked~div.sk-toggleable__content {\n",
       "  /* Expand drop-down */\n",
       "  max-height: 200px;\n",
       "  max-width: 100%;\n",
       "  overflow: auto;\n",
       "}\n",
       "\n",
       "#sk-container-id-1 input.sk-toggleable__control:checked~label.sk-toggleable__label-arrow:before {\n",
       "  content: \"▾\";\n",
       "}\n",
       "\n",
       "/* Pipeline/ColumnTransformer-specific style */\n",
       "\n",
       "#sk-container-id-1 div.sk-label input.sk-toggleable__control:checked~label.sk-toggleable__label {\n",
       "  color: var(--sklearn-color-text);\n",
       "  background-color: var(--sklearn-color-unfitted-level-2);\n",
       "}\n",
       "\n",
       "#sk-container-id-1 div.sk-label.fitted input.sk-toggleable__control:checked~label.sk-toggleable__label {\n",
       "  background-color: var(--sklearn-color-fitted-level-2);\n",
       "}\n",
       "\n",
       "/* Estimator-specific style */\n",
       "\n",
       "/* Colorize estimator box */\n",
       "#sk-container-id-1 div.sk-estimator input.sk-toggleable__control:checked~label.sk-toggleable__label {\n",
       "  /* unfitted */\n",
       "  background-color: var(--sklearn-color-unfitted-level-2);\n",
       "}\n",
       "\n",
       "#sk-container-id-1 div.sk-estimator.fitted input.sk-toggleable__control:checked~label.sk-toggleable__label {\n",
       "  /* fitted */\n",
       "  background-color: var(--sklearn-color-fitted-level-2);\n",
       "}\n",
       "\n",
       "#sk-container-id-1 div.sk-label label.sk-toggleable__label,\n",
       "#sk-container-id-1 div.sk-label label {\n",
       "  /* The background is the default theme color */\n",
       "  color: var(--sklearn-color-text-on-default-background);\n",
       "}\n",
       "\n",
       "/* On hover, darken the color of the background */\n",
       "#sk-container-id-1 div.sk-label:hover label.sk-toggleable__label {\n",
       "  color: var(--sklearn-color-text);\n",
       "  background-color: var(--sklearn-color-unfitted-level-2);\n",
       "}\n",
       "\n",
       "/* Label box, darken color on hover, fitted */\n",
       "#sk-container-id-1 div.sk-label.fitted:hover label.sk-toggleable__label.fitted {\n",
       "  color: var(--sklearn-color-text);\n",
       "  background-color: var(--sklearn-color-fitted-level-2);\n",
       "}\n",
       "\n",
       "/* Estimator label */\n",
       "\n",
       "#sk-container-id-1 div.sk-label label {\n",
       "  font-family: monospace;\n",
       "  font-weight: bold;\n",
       "  display: inline-block;\n",
       "  line-height: 1.2em;\n",
       "}\n",
       "\n",
       "#sk-container-id-1 div.sk-label-container {\n",
       "  text-align: center;\n",
       "}\n",
       "\n",
       "/* Estimator-specific */\n",
       "#sk-container-id-1 div.sk-estimator {\n",
       "  font-family: monospace;\n",
       "  border: 1px dotted var(--sklearn-color-border-box);\n",
       "  border-radius: 0.25em;\n",
       "  box-sizing: border-box;\n",
       "  margin-bottom: 0.5em;\n",
       "  /* unfitted */\n",
       "  background-color: var(--sklearn-color-unfitted-level-0);\n",
       "}\n",
       "\n",
       "#sk-container-id-1 div.sk-estimator.fitted {\n",
       "  /* fitted */\n",
       "  background-color: var(--sklearn-color-fitted-level-0);\n",
       "}\n",
       "\n",
       "/* on hover */\n",
       "#sk-container-id-1 div.sk-estimator:hover {\n",
       "  /* unfitted */\n",
       "  background-color: var(--sklearn-color-unfitted-level-2);\n",
       "}\n",
       "\n",
       "#sk-container-id-1 div.sk-estimator.fitted:hover {\n",
       "  /* fitted */\n",
       "  background-color: var(--sklearn-color-fitted-level-2);\n",
       "}\n",
       "\n",
       "/* Specification for estimator info (e.g. \"i\" and \"?\") */\n",
       "\n",
       "/* Common style for \"i\" and \"?\" */\n",
       "\n",
       ".sk-estimator-doc-link,\n",
       "a:link.sk-estimator-doc-link,\n",
       "a:visited.sk-estimator-doc-link {\n",
       "  float: right;\n",
       "  font-size: smaller;\n",
       "  line-height: 1em;\n",
       "  font-family: monospace;\n",
       "  background-color: var(--sklearn-color-background);\n",
       "  border-radius: 1em;\n",
       "  height: 1em;\n",
       "  width: 1em;\n",
       "  text-decoration: none !important;\n",
       "  margin-left: 1ex;\n",
       "  /* unfitted */\n",
       "  border: var(--sklearn-color-unfitted-level-1) 1pt solid;\n",
       "  color: var(--sklearn-color-unfitted-level-1);\n",
       "}\n",
       "\n",
       ".sk-estimator-doc-link.fitted,\n",
       "a:link.sk-estimator-doc-link.fitted,\n",
       "a:visited.sk-estimator-doc-link.fitted {\n",
       "  /* fitted */\n",
       "  border: var(--sklearn-color-fitted-level-1) 1pt solid;\n",
       "  color: var(--sklearn-color-fitted-level-1);\n",
       "}\n",
       "\n",
       "/* On hover */\n",
       "div.sk-estimator:hover .sk-estimator-doc-link:hover,\n",
       ".sk-estimator-doc-link:hover,\n",
       "div.sk-label-container:hover .sk-estimator-doc-link:hover,\n",
       ".sk-estimator-doc-link:hover {\n",
       "  /* unfitted */\n",
       "  background-color: var(--sklearn-color-unfitted-level-3);\n",
       "  color: var(--sklearn-color-background);\n",
       "  text-decoration: none;\n",
       "}\n",
       "\n",
       "div.sk-estimator.fitted:hover .sk-estimator-doc-link.fitted:hover,\n",
       ".sk-estimator-doc-link.fitted:hover,\n",
       "div.sk-label-container:hover .sk-estimator-doc-link.fitted:hover,\n",
       ".sk-estimator-doc-link.fitted:hover {\n",
       "  /* fitted */\n",
       "  background-color: var(--sklearn-color-fitted-level-3);\n",
       "  color: var(--sklearn-color-background);\n",
       "  text-decoration: none;\n",
       "}\n",
       "\n",
       "/* Span, style for the box shown on hovering the info icon */\n",
       ".sk-estimator-doc-link span {\n",
       "  display: none;\n",
       "  z-index: 9999;\n",
       "  position: relative;\n",
       "  font-weight: normal;\n",
       "  right: .2ex;\n",
       "  padding: .5ex;\n",
       "  margin: .5ex;\n",
       "  width: min-content;\n",
       "  min-width: 20ex;\n",
       "  max-width: 50ex;\n",
       "  color: var(--sklearn-color-text);\n",
       "  box-shadow: 2pt 2pt 4pt #999;\n",
       "  /* unfitted */\n",
       "  background: var(--sklearn-color-unfitted-level-0);\n",
       "  border: .5pt solid var(--sklearn-color-unfitted-level-3);\n",
       "}\n",
       "\n",
       ".sk-estimator-doc-link.fitted span {\n",
       "  /* fitted */\n",
       "  background: var(--sklearn-color-fitted-level-0);\n",
       "  border: var(--sklearn-color-fitted-level-3);\n",
       "}\n",
       "\n",
       ".sk-estimator-doc-link:hover span {\n",
       "  display: block;\n",
       "}\n",
       "\n",
       "/* \"?\"-specific style due to the `<a>` HTML tag */\n",
       "\n",
       "#sk-container-id-1 a.estimator_doc_link {\n",
       "  float: right;\n",
       "  font-size: 1rem;\n",
       "  line-height: 1em;\n",
       "  font-family: monospace;\n",
       "  background-color: var(--sklearn-color-background);\n",
       "  border-radius: 1rem;\n",
       "  height: 1rem;\n",
       "  width: 1rem;\n",
       "  text-decoration: none;\n",
       "  /* unfitted */\n",
       "  color: var(--sklearn-color-unfitted-level-1);\n",
       "  border: var(--sklearn-color-unfitted-level-1) 1pt solid;\n",
       "}\n",
       "\n",
       "#sk-container-id-1 a.estimator_doc_link.fitted {\n",
       "  /* fitted */\n",
       "  border: var(--sklearn-color-fitted-level-1) 1pt solid;\n",
       "  color: var(--sklearn-color-fitted-level-1);\n",
       "}\n",
       "\n",
       "/* On hover */\n",
       "#sk-container-id-1 a.estimator_doc_link:hover {\n",
       "  /* unfitted */\n",
       "  background-color: var(--sklearn-color-unfitted-level-3);\n",
       "  color: var(--sklearn-color-background);\n",
       "  text-decoration: none;\n",
       "}\n",
       "\n",
       "#sk-container-id-1 a.estimator_doc_link.fitted:hover {\n",
       "  /* fitted */\n",
       "  background-color: var(--sklearn-color-fitted-level-3);\n",
       "}\n",
       "</style><div id=\"sk-container-id-1\" class=\"sk-top-container\"><div class=\"sk-text-repr-fallback\"><pre>LinearRegression()</pre><b>In a Jupyter environment, please rerun this cell to show the HTML representation or trust the notebook. <br />On GitHub, the HTML representation is unable to render, please try loading this page with nbviewer.org.</b></div><div class=\"sk-container\" hidden><div class=\"sk-item\"><div class=\"sk-estimator fitted sk-toggleable\"><input class=\"sk-toggleable__control sk-hidden--visually\" id=\"sk-estimator-id-1\" type=\"checkbox\" checked><label for=\"sk-estimator-id-1\" class=\"sk-toggleable__label fitted sk-toggleable__label-arrow fitted\">&nbsp;&nbsp;LinearRegression<a class=\"sk-estimator-doc-link fitted\" rel=\"noreferrer\" target=\"_blank\" href=\"https://scikit-learn.org/1.5/modules/generated/sklearn.linear_model.LinearRegression.html\">?<span>Documentation for LinearRegression</span></a><span class=\"sk-estimator-doc-link fitted\">i<span>Fitted</span></span></label><div class=\"sk-toggleable__content fitted\"><pre>LinearRegression()</pre></div> </div></div></div></div>"
      ],
      "text/plain": [
       "LinearRegression()"
      ]
     },
     "execution_count": 13,
     "metadata": {},
     "output_type": "execute_result"
    }
   ],
   "source": [
    "model = LinearRegression()\n",
    "model.fit(train_data[num_features + cat_features], train_data[target])\n",
    "train_preds = model.predict(train_data[num_features + cat_features])\n",
    "train_data[\"prediction\"] = train_preds"
   ]
  },
  {
   "cell_type": "code",
   "execution_count": 15,
   "id": "775faa558e6ed9f5",
   "metadata": {},
   "outputs": [],
   "source": [
    "val_preds = model.predict(val_data[num_features + cat_features])\n",
    "val_data[\"prediction\"] = val_preds"
   ]
  },
  {
   "cell_type": "code",
   "execution_count": 16,
   "id": "e675db84c123c9db",
   "metadata": {},
   "outputs": [
    {
     "name": "stdout",
     "output_type": "stream",
     "text": [
      "3.9329290119804226\n",
      "4.267088174846758\n"
     ]
    }
   ],
   "source": [
    "print(mean_absolute_error(train_data.duration_min, train_data.prediction))\n",
    "print(mean_absolute_error(val_data.duration_min, val_data.prediction))"
   ]
  },
  {
   "cell_type": "markdown",
   "id": "594f99e8-3667-4108-adf3-d9509150924d",
   "metadata": {},
   "source": [
    "# Dump model and reference data\n"
   ]
  },
  {
   "cell_type": "code",
   "execution_count": 19,
   "id": "b323d6bb-7cbc-4b0b-893c-88f9f1b54a31",
   "metadata": {},
   "outputs": [],
   "source": [
    "! mkdir models"
   ]
  },
  {
   "cell_type": "code",
   "execution_count": 17,
   "id": "a41101a02592a969",
   "metadata": {},
   "outputs": [],
   "source": [
    "with open(\"models/lin_reg.bin\", \"wb\") as f_out:\n",
    "    dump(model, f_out)"
   ]
  },
  {
   "cell_type": "code",
   "execution_count": 18,
   "id": "6ba1f803d2d9ddf7",
   "metadata": {},
   "outputs": [],
   "source": [
    "val_data.to_parquet(\"data/reference.parquet\")"
   ]
  },
  {
   "cell_type": "markdown",
   "id": "c857c5683c59b65",
   "metadata": {},
   "source": [
    "# Evidently Report\n"
   ]
  },
  {
   "cell_type": "code",
   "execution_count": null,
   "id": "1e10db1a0250c1ab",
   "metadata": {},
   "outputs": [],
   "source": [
    "data_definition = DataDefinition(\n",
    "    numerical_columns=num_features + [\"prediction\"], categorical_columns=cat_features\n",
    ")\n",
    "train_dataset = Dataset.from_pandas(train_data, data_definition)\n",
    "val_dataset = Dataset.from_pandas(val_data, data_definition)"
   ]
  },
  {
   "cell_type": "code",
   "execution_count": 37,
   "id": "543ca2a7e4f00a45",
   "metadata": {},
   "outputs": [],
   "source": [
    "report = Report(\n",
    "    metrics=[\n",
    "        ValueDrift(column=\"prediction\"),\n",
    "        DriftedColumnsCount(),\n",
    "        MissingValueCount(column=\"prediction\"),\n",
    "        QuantileValue(column=\"fare_amount\", quantile=0.5),\n",
    "        DuplicatedRowCount(),\n",
    "    ]\n",
    ")"
   ]
  },
  {
   "cell_type": "code",
   "execution_count": null,
   "id": "b3b89377",
   "metadata": {},
   "outputs": [
    {
     "name": "stdout",
     "output_type": "stream",
     "text": [
      "2024-01-01\n"
     ]
    }
   ],
   "source": [
    "date = datetime.date(2024, 1, 1)\n",
    "print()"
   ]
  },
  {
   "cell_type": "code",
   "execution_count": 58,
   "id": "0c49b6e7",
   "metadata": {},
   "outputs": [],
   "source": [
    "day_val_dataset = val_data.loc[\n",
    "    val_data.lpep_pickup_datetime.between(\"2024-03-01\", \"2024-03-02\", inclusive=\"left\")\n",
    "]"
   ]
  },
  {
   "cell_type": "code",
   "execution_count": 59,
   "id": "56d3e0ba",
   "metadata": {},
   "outputs": [
    {
     "data": {
      "text/html": [
       "<div>\n",
       "<style scoped>\n",
       "    .dataframe tbody tr th:only-of-type {\n",
       "        vertical-align: middle;\n",
       "    }\n",
       "\n",
       "    .dataframe tbody tr th {\n",
       "        vertical-align: top;\n",
       "    }\n",
       "\n",
       "    .dataframe thead th {\n",
       "        text-align: right;\n",
       "    }\n",
       "</style>\n",
       "<table border=\"1\" class=\"dataframe\">\n",
       "  <thead>\n",
       "    <tr style=\"text-align: right;\">\n",
       "      <th></th>\n",
       "      <th>VendorID</th>\n",
       "      <th>lpep_pickup_datetime</th>\n",
       "      <th>lpep_dropoff_datetime</th>\n",
       "      <th>store_and_fwd_flag</th>\n",
       "      <th>RatecodeID</th>\n",
       "      <th>PULocationID</th>\n",
       "      <th>DOLocationID</th>\n",
       "      <th>passenger_count</th>\n",
       "      <th>trip_distance</th>\n",
       "      <th>fare_amount</th>\n",
       "      <th>...</th>\n",
       "      <th>tip_amount</th>\n",
       "      <th>tolls_amount</th>\n",
       "      <th>ehail_fee</th>\n",
       "      <th>improvement_surcharge</th>\n",
       "      <th>total_amount</th>\n",
       "      <th>payment_type</th>\n",
       "      <th>trip_type</th>\n",
       "      <th>congestion_surcharge</th>\n",
       "      <th>duration_min</th>\n",
       "      <th>prediction</th>\n",
       "    </tr>\n",
       "  </thead>\n",
       "  <tbody>\n",
       "    <tr>\n",
       "      <th>0</th>\n",
       "      <td>2</td>\n",
       "      <td>2024-03-01 00:10:52</td>\n",
       "      <td>2024-03-01 00:26:12</td>\n",
       "      <td>N</td>\n",
       "      <td>1.0</td>\n",
       "      <td>129</td>\n",
       "      <td>226</td>\n",
       "      <td>1.0</td>\n",
       "      <td>1.72</td>\n",
       "      <td>12.8</td>\n",
       "      <td>...</td>\n",
       "      <td>3.06</td>\n",
       "      <td>0.0</td>\n",
       "      <td>NaN</td>\n",
       "      <td>1.0</td>\n",
       "      <td>18.36</td>\n",
       "      <td>1.0</td>\n",
       "      <td>1.0</td>\n",
       "      <td>0.00</td>\n",
       "      <td>15.333333</td>\n",
       "      <td>13.675769</td>\n",
       "    </tr>\n",
       "    <tr>\n",
       "      <th>1</th>\n",
       "      <td>2</td>\n",
       "      <td>2024-03-01 00:22:21</td>\n",
       "      <td>2024-03-01 00:35:15</td>\n",
       "      <td>N</td>\n",
       "      <td>1.0</td>\n",
       "      <td>130</td>\n",
       "      <td>218</td>\n",
       "      <td>1.0</td>\n",
       "      <td>3.25</td>\n",
       "      <td>17.7</td>\n",
       "      <td>...</td>\n",
       "      <td>0.00</td>\n",
       "      <td>0.0</td>\n",
       "      <td>NaN</td>\n",
       "      <td>1.0</td>\n",
       "      <td>20.20</td>\n",
       "      <td>2.0</td>\n",
       "      <td>1.0</td>\n",
       "      <td>0.00</td>\n",
       "      <td>12.900000</td>\n",
       "      <td>15.944903</td>\n",
       "    </tr>\n",
       "    <tr>\n",
       "      <th>2</th>\n",
       "      <td>2</td>\n",
       "      <td>2024-03-01 00:45:27</td>\n",
       "      <td>2024-03-01 01:04:32</td>\n",
       "      <td>N</td>\n",
       "      <td>1.0</td>\n",
       "      <td>255</td>\n",
       "      <td>107</td>\n",
       "      <td>2.0</td>\n",
       "      <td>4.58</td>\n",
       "      <td>23.3</td>\n",
       "      <td>...</td>\n",
       "      <td>3.50</td>\n",
       "      <td>0.0</td>\n",
       "      <td>NaN</td>\n",
       "      <td>1.0</td>\n",
       "      <td>32.05</td>\n",
       "      <td>1.0</td>\n",
       "      <td>1.0</td>\n",
       "      <td>2.75</td>\n",
       "      <td>19.083333</td>\n",
       "      <td>20.215881</td>\n",
       "    </tr>\n",
       "    <tr>\n",
       "      <th>3</th>\n",
       "      <td>1</td>\n",
       "      <td>2024-03-01 00:02:00</td>\n",
       "      <td>2024-03-01 00:23:45</td>\n",
       "      <td>N</td>\n",
       "      <td>1.0</td>\n",
       "      <td>181</td>\n",
       "      <td>71</td>\n",
       "      <td>1.0</td>\n",
       "      <td>0.00</td>\n",
       "      <td>22.5</td>\n",
       "      <td>...</td>\n",
       "      <td>0.00</td>\n",
       "      <td>0.0</td>\n",
       "      <td>NaN</td>\n",
       "      <td>1.0</td>\n",
       "      <td>24.00</td>\n",
       "      <td>1.0</td>\n",
       "      <td>1.0</td>\n",
       "      <td>0.00</td>\n",
       "      <td>21.750000</td>\n",
       "      <td>18.134422</td>\n",
       "    </tr>\n",
       "    <tr>\n",
       "      <th>4</th>\n",
       "      <td>2</td>\n",
       "      <td>2024-03-01 00:16:45</td>\n",
       "      <td>2024-03-01 00:23:25</td>\n",
       "      <td>N</td>\n",
       "      <td>1.0</td>\n",
       "      <td>95</td>\n",
       "      <td>135</td>\n",
       "      <td>1.0</td>\n",
       "      <td>1.15</td>\n",
       "      <td>8.6</td>\n",
       "      <td>...</td>\n",
       "      <td>1.00</td>\n",
       "      <td>0.0</td>\n",
       "      <td>NaN</td>\n",
       "      <td>1.0</td>\n",
       "      <td>12.10</td>\n",
       "      <td>1.0</td>\n",
       "      <td>1.0</td>\n",
       "      <td>0.00</td>\n",
       "      <td>6.666667</td>\n",
       "      <td>10.502977</td>\n",
       "    </tr>\n",
       "    <tr>\n",
       "      <th>...</th>\n",
       "      <td>...</td>\n",
       "      <td>...</td>\n",
       "      <td>...</td>\n",
       "      <td>...</td>\n",
       "      <td>...</td>\n",
       "      <td>...</td>\n",
       "      <td>...</td>\n",
       "      <td>...</td>\n",
       "      <td>...</td>\n",
       "      <td>...</td>\n",
       "      <td>...</td>\n",
       "      <td>...</td>\n",
       "      <td>...</td>\n",
       "      <td>...</td>\n",
       "      <td>...</td>\n",
       "      <td>...</td>\n",
       "      <td>...</td>\n",
       "      <td>...</td>\n",
       "      <td>...</td>\n",
       "      <td>...</td>\n",
       "      <td>...</td>\n",
       "    </tr>\n",
       "    <tr>\n",
       "      <th>2040</th>\n",
       "      <td>2</td>\n",
       "      <td>2024-03-01 23:40:15</td>\n",
       "      <td>2024-03-01 23:50:28</td>\n",
       "      <td>N</td>\n",
       "      <td>1.0</td>\n",
       "      <td>130</td>\n",
       "      <td>56</td>\n",
       "      <td>1.0</td>\n",
       "      <td>4.70</td>\n",
       "      <td>20.5</td>\n",
       "      <td>...</td>\n",
       "      <td>0.00</td>\n",
       "      <td>0.0</td>\n",
       "      <td>NaN</td>\n",
       "      <td>1.0</td>\n",
       "      <td>23.00</td>\n",
       "      <td>2.0</td>\n",
       "      <td>1.0</td>\n",
       "      <td>0.00</td>\n",
       "      <td>10.216667</td>\n",
       "      <td>17.393500</td>\n",
       "    </tr>\n",
       "    <tr>\n",
       "      <th>2041</th>\n",
       "      <td>2</td>\n",
       "      <td>2024-03-01 23:30:59</td>\n",
       "      <td>2024-03-01 23:31:02</td>\n",
       "      <td>N</td>\n",
       "      <td>5.0</td>\n",
       "      <td>265</td>\n",
       "      <td>264</td>\n",
       "      <td>2.0</td>\n",
       "      <td>0.00</td>\n",
       "      <td>39.0</td>\n",
       "      <td>...</td>\n",
       "      <td>0.00</td>\n",
       "      <td>0.0</td>\n",
       "      <td>NaN</td>\n",
       "      <td>1.0</td>\n",
       "      <td>40.00</td>\n",
       "      <td>1.0</td>\n",
       "      <td>2.0</td>\n",
       "      <td>0.00</td>\n",
       "      <td>0.050000</td>\n",
       "      <td>28.342438</td>\n",
       "    </tr>\n",
       "    <tr>\n",
       "      <th>2046</th>\n",
       "      <td>2</td>\n",
       "      <td>2024-03-01 23:59:03</td>\n",
       "      <td>2024-03-02 00:08:22</td>\n",
       "      <td>N</td>\n",
       "      <td>1.0</td>\n",
       "      <td>159</td>\n",
       "      <td>116</td>\n",
       "      <td>1.0</td>\n",
       "      <td>1.61</td>\n",
       "      <td>11.4</td>\n",
       "      <td>...</td>\n",
       "      <td>0.00</td>\n",
       "      <td>0.0</td>\n",
       "      <td>NaN</td>\n",
       "      <td>1.0</td>\n",
       "      <td>13.90</td>\n",
       "      <td>2.0</td>\n",
       "      <td>1.0</td>\n",
       "      <td>0.00</td>\n",
       "      <td>9.316667</td>\n",
       "      <td>11.608263</td>\n",
       "    </tr>\n",
       "    <tr>\n",
       "      <th>2051</th>\n",
       "      <td>2</td>\n",
       "      <td>2024-03-01 19:47:21</td>\n",
       "      <td>2024-03-01 20:02:35</td>\n",
       "      <td>N</td>\n",
       "      <td>1.0</td>\n",
       "      <td>82</td>\n",
       "      <td>82</td>\n",
       "      <td>1.0</td>\n",
       "      <td>2.11</td>\n",
       "      <td>14.9</td>\n",
       "      <td>...</td>\n",
       "      <td>3.48</td>\n",
       "      <td>0.0</td>\n",
       "      <td>NaN</td>\n",
       "      <td>1.0</td>\n",
       "      <td>20.88</td>\n",
       "      <td>1.0</td>\n",
       "      <td>1.0</td>\n",
       "      <td>0.00</td>\n",
       "      <td>15.233333</td>\n",
       "      <td>15.093740</td>\n",
       "    </tr>\n",
       "    <tr>\n",
       "      <th>13262</th>\n",
       "      <td>2</td>\n",
       "      <td>2024-03-01 23:05:49</td>\n",
       "      <td>2024-03-01 23:09:32</td>\n",
       "      <td>N</td>\n",
       "      <td>1.0</td>\n",
       "      <td>92</td>\n",
       "      <td>92</td>\n",
       "      <td>1.0</td>\n",
       "      <td>0.64</td>\n",
       "      <td>6.5</td>\n",
       "      <td>...</td>\n",
       "      <td>1.60</td>\n",
       "      <td>0.0</td>\n",
       "      <td>NaN</td>\n",
       "      <td>1.0</td>\n",
       "      <td>9.60</td>\n",
       "      <td>1.0</td>\n",
       "      <td>1.0</td>\n",
       "      <td>0.00</td>\n",
       "      <td>3.716667</td>\n",
       "      <td>9.006925</td>\n",
       "    </tr>\n",
       "  </tbody>\n",
       "</table>\n",
       "<p>1994 rows × 22 columns</p>\n",
       "</div>"
      ],
      "text/plain": [
       "       VendorID lpep_pickup_datetime lpep_dropoff_datetime store_and_fwd_flag  \\\n",
       "0             2  2024-03-01 00:10:52   2024-03-01 00:26:12                  N   \n",
       "1             2  2024-03-01 00:22:21   2024-03-01 00:35:15                  N   \n",
       "2             2  2024-03-01 00:45:27   2024-03-01 01:04:32                  N   \n",
       "3             1  2024-03-01 00:02:00   2024-03-01 00:23:45                  N   \n",
       "4             2  2024-03-01 00:16:45   2024-03-01 00:23:25                  N   \n",
       "...         ...                  ...                   ...                ...   \n",
       "2040          2  2024-03-01 23:40:15   2024-03-01 23:50:28                  N   \n",
       "2041          2  2024-03-01 23:30:59   2024-03-01 23:31:02                  N   \n",
       "2046          2  2024-03-01 23:59:03   2024-03-02 00:08:22                  N   \n",
       "2051          2  2024-03-01 19:47:21   2024-03-01 20:02:35                  N   \n",
       "13262         2  2024-03-01 23:05:49   2024-03-01 23:09:32                  N   \n",
       "\n",
       "       RatecodeID  PULocationID  DOLocationID  passenger_count  trip_distance  \\\n",
       "0             1.0           129           226              1.0           1.72   \n",
       "1             1.0           130           218              1.0           3.25   \n",
       "2             1.0           255           107              2.0           4.58   \n",
       "3             1.0           181            71              1.0           0.00   \n",
       "4             1.0            95           135              1.0           1.15   \n",
       "...           ...           ...           ...              ...            ...   \n",
       "2040          1.0           130            56              1.0           4.70   \n",
       "2041          5.0           265           264              2.0           0.00   \n",
       "2046          1.0           159           116              1.0           1.61   \n",
       "2051          1.0            82            82              1.0           2.11   \n",
       "13262         1.0            92            92              1.0           0.64   \n",
       "\n",
       "       fare_amount  ...  tip_amount  tolls_amount  ehail_fee  \\\n",
       "0             12.8  ...        3.06           0.0        NaN   \n",
       "1             17.7  ...        0.00           0.0        NaN   \n",
       "2             23.3  ...        3.50           0.0        NaN   \n",
       "3             22.5  ...        0.00           0.0        NaN   \n",
       "4              8.6  ...        1.00           0.0        NaN   \n",
       "...            ...  ...         ...           ...        ...   \n",
       "2040          20.5  ...        0.00           0.0        NaN   \n",
       "2041          39.0  ...        0.00           0.0        NaN   \n",
       "2046          11.4  ...        0.00           0.0        NaN   \n",
       "2051          14.9  ...        3.48           0.0        NaN   \n",
       "13262          6.5  ...        1.60           0.0        NaN   \n",
       "\n",
       "       improvement_surcharge  total_amount  payment_type  trip_type  \\\n",
       "0                        1.0         18.36           1.0        1.0   \n",
       "1                        1.0         20.20           2.0        1.0   \n",
       "2                        1.0         32.05           1.0        1.0   \n",
       "3                        1.0         24.00           1.0        1.0   \n",
       "4                        1.0         12.10           1.0        1.0   \n",
       "...                      ...           ...           ...        ...   \n",
       "2040                     1.0         23.00           2.0        1.0   \n",
       "2041                     1.0         40.00           1.0        2.0   \n",
       "2046                     1.0         13.90           2.0        1.0   \n",
       "2051                     1.0         20.88           1.0        1.0   \n",
       "13262                    1.0          9.60           1.0        1.0   \n",
       "\n",
       "       congestion_surcharge  duration_min  prediction  \n",
       "0                      0.00     15.333333   13.675769  \n",
       "1                      0.00     12.900000   15.944903  \n",
       "2                      2.75     19.083333   20.215881  \n",
       "3                      0.00     21.750000   18.134422  \n",
       "4                      0.00      6.666667   10.502977  \n",
       "...                     ...           ...         ...  \n",
       "2040                   0.00     10.216667   17.393500  \n",
       "2041                   0.00      0.050000   28.342438  \n",
       "2046                   0.00      9.316667   11.608263  \n",
       "2051                   0.00     15.233333   15.093740  \n",
       "13262                  0.00      3.716667    9.006925  \n",
       "\n",
       "[1994 rows x 22 columns]"
      ]
     },
     "execution_count": 59,
     "metadata": {},
     "output_type": "execute_result"
    }
   ],
   "source": [
    "day_val_dataset"
   ]
  },
  {
   "cell_type": "code",
   "execution_count": 60,
   "id": "a9e2aa5ca9b496d4",
   "metadata": {},
   "outputs": [
    {
     "name": "stderr",
     "output_type": "stream",
     "text": [
      "WARNING:root:Column ehail_fee have different types in reference object and current float64. Returning type from reference\n",
      "WARNING:root:Column ehail_fee have different types in reference object and current float64. Returning type from reference\n"
     ]
    },
    {
     "name": "stdout",
     "output_type": "stream",
     "text": [
      "(1994, 22)\n"
     ]
    },
    {
     "name": "stderr",
     "output_type": "stream",
     "text": [
      "WARNING:root:Column ehail_fee have different types in reference object and current float64. Returning type from reference\n",
      "WARNING:root:Column ehail_fee have different types in reference object and current float64. Returning type from reference\n"
     ]
    },
    {
     "name": "stdout",
     "output_type": "stream",
     "text": [
      "(1509, 22)\n"
     ]
    },
    {
     "name": "stderr",
     "output_type": "stream",
     "text": [
      "WARNING:root:Column ehail_fee have different types in reference object and current float64. Returning type from reference\n",
      "WARNING:root:Column ehail_fee have different types in reference object and current float64. Returning type from reference\n"
     ]
    },
    {
     "name": "stdout",
     "output_type": "stream",
     "text": [
      "(1385, 22)\n"
     ]
    },
    {
     "name": "stderr",
     "output_type": "stream",
     "text": [
      "WARNING:root:Column ehail_fee have different types in reference object and current float64. Returning type from reference\n",
      "WARNING:root:Column ehail_fee have different types in reference object and current float64. Returning type from reference\n"
     ]
    },
    {
     "name": "stdout",
     "output_type": "stream",
     "text": [
      "(1820, 22)\n"
     ]
    },
    {
     "name": "stderr",
     "output_type": "stream",
     "text": [
      "WARNING:root:Column ehail_fee have different types in reference object and current float64. Returning type from reference\n",
      "WARNING:root:Column ehail_fee have different types in reference object and current float64. Returning type from reference\n"
     ]
    },
    {
     "name": "stdout",
     "output_type": "stream",
     "text": [
      "(1867, 22)\n"
     ]
    },
    {
     "name": "stderr",
     "output_type": "stream",
     "text": [
      "WARNING:root:Column ehail_fee have different types in reference object and current float64. Returning type from reference\n",
      "WARNING:root:Column ehail_fee have different types in reference object and current float64. Returning type from reference\n"
     ]
    },
    {
     "name": "stdout",
     "output_type": "stream",
     "text": [
      "(2174, 22)\n"
     ]
    },
    {
     "name": "stderr",
     "output_type": "stream",
     "text": [
      "WARNING:root:Column ehail_fee have different types in reference object and current float64. Returning type from reference\n",
      "WARNING:root:Column ehail_fee have different types in reference object and current float64. Returning type from reference\n"
     ]
    },
    {
     "name": "stdout",
     "output_type": "stream",
     "text": [
      "(2012, 22)\n"
     ]
    },
    {
     "name": "stderr",
     "output_type": "stream",
     "text": [
      "WARNING:root:Column ehail_fee have different types in reference object and current float64. Returning type from reference\n",
      "WARNING:root:Column ehail_fee have different types in reference object and current float64. Returning type from reference\n"
     ]
    },
    {
     "name": "stdout",
     "output_type": "stream",
     "text": [
      "(1964, 22)\n"
     ]
    },
    {
     "name": "stderr",
     "output_type": "stream",
     "text": [
      "WARNING:root:Column ehail_fee have different types in reference object and current float64. Returning type from reference\n",
      "WARNING:root:Column ehail_fee have different types in reference object and current float64. Returning type from reference\n"
     ]
    },
    {
     "name": "stdout",
     "output_type": "stream",
     "text": [
      "(1655, 22)\n"
     ]
    },
    {
     "name": "stderr",
     "output_type": "stream",
     "text": [
      "WARNING:root:Column ehail_fee have different types in reference object and current float64. Returning type from reference\n",
      "WARNING:root:Column ehail_fee have different types in reference object and current float64. Returning type from reference\n"
     ]
    },
    {
     "name": "stdout",
     "output_type": "stream",
     "text": [
      "(1337, 22)\n"
     ]
    },
    {
     "name": "stderr",
     "output_type": "stream",
     "text": [
      "WARNING:root:Column ehail_fee have different types in reference object and current float64. Returning type from reference\n",
      "WARNING:root:Column ehail_fee have different types in reference object and current float64. Returning type from reference\n"
     ]
    },
    {
     "name": "stdout",
     "output_type": "stream",
     "text": [
      "(1742, 22)\n"
     ]
    },
    {
     "name": "stderr",
     "output_type": "stream",
     "text": [
      "WARNING:root:Column ehail_fee have different types in reference object and current float64. Returning type from reference\n",
      "WARNING:root:Column ehail_fee have different types in reference object and current float64. Returning type from reference\n"
     ]
    },
    {
     "name": "stdout",
     "output_type": "stream",
     "text": [
      "(1792, 22)\n"
     ]
    },
    {
     "name": "stderr",
     "output_type": "stream",
     "text": [
      "WARNING:root:Column ehail_fee have different types in reference object and current float64. Returning type from reference\n",
      "WARNING:root:Column ehail_fee have different types in reference object and current float64. Returning type from reference\n"
     ]
    },
    {
     "name": "stdout",
     "output_type": "stream",
     "text": [
      "(1961, 22)\n"
     ]
    },
    {
     "name": "stderr",
     "output_type": "stream",
     "text": [
      "WARNING:root:Column ehail_fee have different types in reference object and current float64. Returning type from reference\n",
      "WARNING:root:Column ehail_fee have different types in reference object and current float64. Returning type from reference\n"
     ]
    },
    {
     "name": "stdout",
     "output_type": "stream",
     "text": [
      "(1974, 22)\n"
     ]
    },
    {
     "name": "stderr",
     "output_type": "stream",
     "text": [
      "WARNING:root:Column ehail_fee have different types in reference object and current float64. Returning type from reference\n",
      "WARNING:root:Column ehail_fee have different types in reference object and current float64. Returning type from reference\n"
     ]
    },
    {
     "name": "stdout",
     "output_type": "stream",
     "text": [
      "(1906, 22)\n"
     ]
    },
    {
     "name": "stderr",
     "output_type": "stream",
     "text": [
      "WARNING:root:Column ehail_fee have different types in reference object and current float64. Returning type from reference\n",
      "WARNING:root:Column ehail_fee have different types in reference object and current float64. Returning type from reference\n"
     ]
    },
    {
     "name": "stdout",
     "output_type": "stream",
     "text": [
      "(1580, 22)\n"
     ]
    },
    {
     "name": "stderr",
     "output_type": "stream",
     "text": [
      "WARNING:root:Column ehail_fee have different types in reference object and current float64. Returning type from reference\n",
      "WARNING:root:Column ehail_fee have different types in reference object and current float64. Returning type from reference\n"
     ]
    },
    {
     "name": "stdout",
     "output_type": "stream",
     "text": [
      "(1349, 22)\n"
     ]
    },
    {
     "name": "stderr",
     "output_type": "stream",
     "text": [
      "WARNING:root:Column ehail_fee have different types in reference object and current float64. Returning type from reference\n",
      "WARNING:root:Column ehail_fee have different types in reference object and current float64. Returning type from reference\n"
     ]
    },
    {
     "name": "stdout",
     "output_type": "stream",
     "text": [
      "(1775, 22)\n"
     ]
    },
    {
     "name": "stderr",
     "output_type": "stream",
     "text": [
      "WARNING:root:Column ehail_fee have different types in reference object and current float64. Returning type from reference\n",
      "WARNING:root:Column ehail_fee have different types in reference object and current float64. Returning type from reference\n"
     ]
    },
    {
     "name": "stdout",
     "output_type": "stream",
     "text": [
      "(1859, 22)\n"
     ]
    },
    {
     "name": "stderr",
     "output_type": "stream",
     "text": [
      "WARNING:root:Column ehail_fee have different types in reference object and current float64. Returning type from reference\n",
      "WARNING:root:Column ehail_fee have different types in reference object and current float64. Returning type from reference\n"
     ]
    },
    {
     "name": "stdout",
     "output_type": "stream",
     "text": [
      "(1938, 22)\n"
     ]
    },
    {
     "name": "stderr",
     "output_type": "stream",
     "text": [
      "WARNING:root:Column ehail_fee have different types in reference object and current float64. Returning type from reference\n",
      "WARNING:root:Column ehail_fee have different types in reference object and current float64. Returning type from reference\n"
     ]
    },
    {
     "name": "stdout",
     "output_type": "stream",
     "text": [
      "(2010, 22)\n"
     ]
    },
    {
     "name": "stderr",
     "output_type": "stream",
     "text": [
      "WARNING:root:Column ehail_fee have different types in reference object and current float64. Returning type from reference\n",
      "WARNING:root:Column ehail_fee have different types in reference object and current float64. Returning type from reference\n"
     ]
    },
    {
     "name": "stdout",
     "output_type": "stream",
     "text": [
      "(1830, 22)\n"
     ]
    },
    {
     "name": "stderr",
     "output_type": "stream",
     "text": [
      "WARNING:root:Column ehail_fee have different types in reference object and current float64. Returning type from reference\n",
      "WARNING:root:Column ehail_fee have different types in reference object and current float64. Returning type from reference\n"
     ]
    },
    {
     "name": "stdout",
     "output_type": "stream",
     "text": [
      "(1289, 22)\n"
     ]
    },
    {
     "name": "stderr",
     "output_type": "stream",
     "text": [
      "WARNING:root:Column ehail_fee have different types in reference object and current float64. Returning type from reference\n",
      "WARNING:root:Column ehail_fee have different types in reference object and current float64. Returning type from reference\n"
     ]
    },
    {
     "name": "stdout",
     "output_type": "stream",
     "text": [
      "(1296, 22)\n"
     ]
    },
    {
     "name": "stderr",
     "output_type": "stream",
     "text": [
      "WARNING:root:Column ehail_fee have different types in reference object and current float64. Returning type from reference\n",
      "WARNING:root:Column ehail_fee have different types in reference object and current float64. Returning type from reference\n"
     ]
    },
    {
     "name": "stdout",
     "output_type": "stream",
     "text": [
      "(1702, 22)\n"
     ]
    },
    {
     "name": "stderr",
     "output_type": "stream",
     "text": [
      "WARNING:root:Column ehail_fee have different types in reference object and current float64. Returning type from reference\n",
      "WARNING:root:Column ehail_fee have different types in reference object and current float64. Returning type from reference\n"
     ]
    },
    {
     "name": "stdout",
     "output_type": "stream",
     "text": [
      "(1833, 22)\n"
     ]
    },
    {
     "name": "stderr",
     "output_type": "stream",
     "text": [
      "WARNING:root:Column ehail_fee have different types in reference object and current float64. Returning type from reference\n",
      "WARNING:root:Column ehail_fee have different types in reference object and current float64. Returning type from reference\n"
     ]
    },
    {
     "name": "stdout",
     "output_type": "stream",
     "text": [
      "(1938, 22)\n"
     ]
    },
    {
     "name": "stderr",
     "output_type": "stream",
     "text": [
      "WARNING:root:Column ehail_fee have different types in reference object and current float64. Returning type from reference\n",
      "WARNING:root:Column ehail_fee have different types in reference object and current float64. Returning type from reference\n"
     ]
    },
    {
     "name": "stdout",
     "output_type": "stream",
     "text": [
      "(2018, 22)\n"
     ]
    },
    {
     "name": "stderr",
     "output_type": "stream",
     "text": [
      "WARNING:root:Column ehail_fee have different types in reference object and current float64. Returning type from reference\n",
      "WARNING:root:Column ehail_fee have different types in reference object and current float64. Returning type from reference\n"
     ]
    },
    {
     "name": "stdout",
     "output_type": "stream",
     "text": [
      "(1734, 22)\n"
     ]
    },
    {
     "name": "stderr",
     "output_type": "stream",
     "text": [
      "WARNING:root:Column ehail_fee have different types in reference object and current float64. Returning type from reference\n"
     ]
    },
    {
     "name": "stdout",
     "output_type": "stream",
     "text": [
      "(1483, 22)\n"
     ]
    },
    {
     "name": "stderr",
     "output_type": "stream",
     "text": [
      "WARNING:root:Column ehail_fee have different types in reference object and current float64. Returning type from reference\n",
      "WARNING:root:Column ehail_fee have different types in reference object and current float64. Returning type from reference\n",
      "WARNING:root:Column ehail_fee have different types in reference object and current float64. Returning type from reference\n"
     ]
    },
    {
     "name": "stdout",
     "output_type": "stream",
     "text": [
      "(1399, 22)\n"
     ]
    }
   ],
   "source": [
    "date = datetime.date(2024, 3, 1)\n",
    "quantiles = []\n",
    "while date.month == 3:\n",
    "    start = date.strftime(\"%Y-%m-%d\")\n",
    "    date += datetime.timedelta(days=1)\n",
    "    end = date.strftime(\"%Y-%m-%d\")\n",
    "    day_val_dataset = val_data.loc[\n",
    "        val_data.lpep_pickup_datetime.between(start, end, inclusive=\"left\")\n",
    "    ]\n",
    "    print(day_val_dataset.shape)\n",
    "    evidently_day_val_dataset = Dataset.from_pandas(day_val_dataset, data_definition)\n",
    "    snapshot = report.run(reference_data=train_dataset, current_data=evidently_day_val_dataset)\n",
    "    result = snapshot.dict()\n",
    "    quantiles.append(result[\"metrics\"][3][\"value\"])"
   ]
  },
  {
   "cell_type": "code",
   "execution_count": 62,
   "id": "6e5035dd2c278a9a",
   "metadata": {},
   "outputs": [
    {
     "data": {
      "text/plain": [
       "np.float64(14.2)"
      ]
     },
     "execution_count": 62,
     "metadata": {},
     "output_type": "execute_result"
    }
   ],
   "source": [
    "max(quantiles)"
   ]
  },
  {
   "cell_type": "code",
   "execution_count": 63,
   "id": "1259822acaefed1e",
   "metadata": {},
   "outputs": [
    {
     "data": {
      "text/plain": [
       "6.0"
      ]
     },
     "execution_count": 63,
     "metadata": {},
     "output_type": "execute_result"
    }
   ],
   "source": [
    "# number of drifted columns\n",
    "result[\"metrics\"][1][\"value\"][\"count\"]"
   ]
  },
  {
   "cell_type": "code",
   "execution_count": 64,
   "id": "a3addf64d2dc04ae",
   "metadata": {},
   "outputs": [
    {
     "data": {
      "text/plain": [
       "0.0"
      ]
     },
     "execution_count": 64,
     "metadata": {},
     "output_type": "execute_result"
    }
   ],
   "source": [
    "# share of missing values\n",
    "result[\"metrics\"][2][\"value\"][\"count\"]"
   ]
  },
  {
   "cell_type": "markdown",
   "id": "b2f9038a218615f1",
   "metadata": {},
   "source": [
    "# Evidently Dashboard\n"
   ]
  },
  {
   "cell_type": "code",
   "execution_count": null,
   "id": "fb2023542b25fd91",
   "metadata": {},
   "outputs": [],
   "source": [
    "from evidently.presets import DataDriftPreset, DataSummaryPreset\n",
    "\n",
    "from evidently.ui.workspace import Workspace\n",
    "from evidently.sdk.panels import *\n",
    "from evidently.legacy.renderers.html_widgets import WidgetSize"
   ]
  },
  {
   "cell_type": "code",
   "execution_count": null,
   "id": "ad1e20608545b2ec",
   "metadata": {},
   "outputs": [],
   "source": [
    "ws = Workspace(\"workspace\")"
   ]
  },
  {
   "cell_type": "code",
   "execution_count": null,
   "id": "e953dfbe75da3c06",
   "metadata": {},
   "outputs": [],
   "source": [
    "project = ws.create_project(\"NYC Taxi Data Quality Project\")\n",
    "project.description = \"My project description\"\n",
    "project.save()"
   ]
  },
  {
   "cell_type": "code",
   "execution_count": null,
   "id": "b50a04f69b18b46e",
   "metadata": {},
   "outputs": [],
   "source": [
    "regular_report = Report(\n",
    "    metrics=[DataSummaryPreset()],\n",
    ")\n",
    "\n",
    "data = Dataset.from_pandas(\n",
    "    val_data.loc[\n",
    "        val_data.lpep_pickup_datetime.between(\"2022-01-28\", \"2022-01-29\", inclusive=\"left\")\n",
    "    ],\n",
    "    data_definition=data_definition,\n",
    ")\n",
    "\n",
    "regular_snapshot = regular_report.run(current_data=data, timestamp=datetime.datetime(2022, 1, 28))\n",
    "\n",
    "regular_snapshot"
   ]
  },
  {
   "cell_type": "code",
   "execution_count": null,
   "id": "11d1f0f5a3a478a1",
   "metadata": {},
   "outputs": [],
   "source": [
    "ws.add_run(project.id, regular_snapshot)"
   ]
  },
  {
   "cell_type": "markdown",
   "id": "15c502ed-a2d6-4de9-866a-5eca46c354ce",
   "metadata": {},
   "source": [
    "note: To view a report please run \"evidently ui\" command in a separate tab in your terminal.\n"
   ]
  },
  {
   "cell_type": "code",
   "execution_count": null,
   "id": "c9ffc785f07a3b43",
   "metadata": {},
   "outputs": [],
   "source": [
    "# configure the dashboard\n",
    "project.dashboard.add_panel(text_panel(title=\"NYC taxi data dashboard\"))\n",
    "\n",
    "project.dashboard.add_panel(\n",
    "    bar_plot_panel(\n",
    "        title=\"Inference Count\",\n",
    "        values=[\n",
    "            PanelMetric(\n",
    "                metric=\"RowCount\",\n",
    "                legend=\"count\",\n",
    "            ),\n",
    "        ],\n",
    "        size=\"half\",\n",
    "    ),\n",
    ")\n",
    "\n",
    "project.dashboard.add_panel(\n",
    "    line_plot_panel(\n",
    "        title=\"Number of Missing Values\",\n",
    "        values=[\n",
    "            PanelMetric(metric=\"DatasetMissingValueCount\", legend=\"count\"),\n",
    "        ],\n",
    "        size=\"half\",\n",
    "    ),\n",
    ")\n",
    "\n",
    "project.save()"
   ]
  },
  {
   "cell_type": "markdown",
   "id": "e57e1bcc-4561-4e23-829b-3a635c989b2b",
   "metadata": {},
   "source": [
    "To view a dashboard please run \"evidently ui\" command in a separate tab in your terminal.\n"
   ]
  },
  {
   "cell_type": "code",
   "execution_count": null,
   "id": "ef86fd9791faf042",
   "metadata": {},
   "outputs": [],
   "source": [
    "regular_report = Report(\n",
    "    metrics=[DataSummaryPreset()],\n",
    ")\n",
    "\n",
    "data = Dataset.from_pandas(\n",
    "    val_data.loc[\n",
    "        val_data.lpep_pickup_datetime.between(\"2022-01-29\", \"2022-01-30\", inclusive=\"left\")\n",
    "    ],\n",
    "    data_definition=data_definition,\n",
    ")\n",
    "\n",
    "regular_run = regular_report.run(current_data=data, timestamp=datetime.datetime(2022, 1, 29))\n",
    "\n",
    "regular_run"
   ]
  },
  {
   "cell_type": "code",
   "execution_count": null,
   "id": "42a513dc53964471",
   "metadata": {},
   "outputs": [],
   "source": [
    "ws.add_run(project.id, regular_run)"
   ]
  },
  {
   "cell_type": "code",
   "execution_count": null,
   "id": "7da8c7d2911c5f1e",
   "metadata": {},
   "outputs": [],
   "source": []
  }
 ],
 "metadata": {
  "kernelspec": {
   "display_name": ".venv",
   "language": "python",
   "name": "python3"
  },
  "language_info": {
   "codemirror_mode": {
    "name": "ipython",
    "version": 3
   },
   "file_extension": ".py",
   "mimetype": "text/x-python",
   "name": "python",
   "nbconvert_exporter": "python",
   "pygments_lexer": "ipython3",
   "version": "3.12.10"
  }
 },
 "nbformat": 4,
 "nbformat_minor": 5
}
