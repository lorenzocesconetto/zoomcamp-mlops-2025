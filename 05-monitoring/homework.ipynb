{
 "cells": [
  {
   "cell_type": "code",
   "execution_count": 1,
   "id": "8004229c",
   "metadata": {},
   "outputs": [],
   "source": [
    "import pandas as pd\n",
    "import requests"
   ]
  },
  {
   "cell_type": "markdown",
   "id": "db8efd6a",
   "metadata": {},
   "source": [
    "## Q1. Prepare the dataset\n",
    "\n",
    "Start with `baseline_model_nyc_taxi_data.ipynb`. Download the March 2024 Green Taxi data. We will use this data to simulate a production usage of a taxi trip duration prediction service.\n",
    "\n",
    "What is the shape of the downloaded data? How many rows are there?\n",
    "\n",
    "- 72044\n",
    "- 78537\n",
    "- 57457\n",
    "- 54396\n"
   ]
  },
  {
   "cell_type": "code",
   "execution_count": 3,
   "id": "2fba2631",
   "metadata": {},
   "outputs": [],
   "source": [
    "year = 2024\n",
    "month = 3\n",
    "df = pd.read_parquet(\n",
    "    f\"https://d37ci6vzurychx.cloudfront.net/trip-data/green_tripdata_{year:04d}-{month:02d}.parquet\"\n",
    ")"
   ]
  },
  {
   "cell_type": "code",
   "execution_count": 4,
   "id": "3a6cc5a1",
   "metadata": {},
   "outputs": [
    {
     "data": {
      "text/plain": [
       "(57457, 20)"
      ]
     },
     "execution_count": 4,
     "metadata": {},
     "output_type": "execute_result"
    }
   ],
   "source": [
    "df.shape"
   ]
  },
  {
   "cell_type": "markdown",
   "id": "a249b248",
   "metadata": {},
   "source": [
    "# Q2. Metric\n",
    "\n",
    "Let's expand the number of data quality metrics we’d like to monitor! Please add one metric of your choice and a quantile value for the `\"fare_amount\"` column (`quantile=0.5`).\n",
    "\n",
    "Hint: explore evidently metric `ColumnQuantileMetric` (`from evidently.metrics import ColumnQuantileMetric`)\n",
    "\n",
    "What metric did you choose?\n"
   ]
  },
  {
   "cell_type": "code",
   "execution_count": null,
   "id": "773632bc",
   "metadata": {},
   "outputs": [],
   "source": []
  },
  {
   "cell_type": "markdown",
   "id": "4848603b",
   "metadata": {},
   "source": [
    "## Q3. Monitoring\n",
    "\n",
    "Let’s start monitoring. Run expanded monitoring for a new batch of data (March 2024).\n",
    "\n",
    "What is the maximum value of metric `quantile = 0.5` on the `\"fare_amount\"` column during March 2024 (calculated daily)?\n",
    "\n",
    "- 10\n",
    "- 12.5\n",
    "- 14.2\n",
    "- 14.8\n"
   ]
  },
  {
   "cell_type": "code",
   "execution_count": null,
   "id": "58fb9de6",
   "metadata": {},
   "outputs": [],
   "source": []
  },
  {
   "cell_type": "markdown",
   "id": "6f4b6041",
   "metadata": {},
   "source": [
    "## Q4. Dashboard\n",
    "\n",
    "Finally, let’s add panels with new added metrics to the dashboard. After we customize the dashboard let's save a dashboard config, so that we can access it later. Hint: click on “Save dashboard” to access JSON configuration of the dashboard. This configuration should be saved locally.\n",
    "\n",
    "Where to place a dashboard config file?\n",
    "\n",
    "- `project_folder` (05-monitoring)\n",
    "- `project_folder/config` (05-monitoring/config)\n",
    "- `project_folder/dashboards` (05-monitoring/dashboards)\n",
    "- `project_folder/data` (05-monitoring/data)\n"
   ]
  },
  {
   "cell_type": "markdown",
   "id": "f108856a",
   "metadata": {},
   "source": []
  }
 ],
 "metadata": {
  "kernelspec": {
   "display_name": ".venv",
   "language": "python",
   "name": "python3"
  },
  "language_info": {
   "codemirror_mode": {
    "name": "ipython",
    "version": 3
   },
   "file_extension": ".py",
   "mimetype": "text/x-python",
   "name": "python",
   "nbconvert_exporter": "python",
   "pygments_lexer": "ipython3",
   "version": "3.12.10"
  }
 },
 "nbformat": 4,
 "nbformat_minor": 5
}
