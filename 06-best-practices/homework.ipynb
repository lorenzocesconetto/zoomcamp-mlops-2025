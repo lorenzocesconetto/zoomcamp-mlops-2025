{
 "cells": [
  {
   "cell_type": "markdown",
   "id": "bf9a7694",
   "metadata": {},
   "source": [
    "# Homework 1: Best practices\n",
    "\n",
    "## By: Lorenzo Cesconetto\n",
    "\n",
    "Check out all the questions [here](https://github.com/DataTalksClub/mlops-zoomcamp/blob/main/cohorts/2025/06-best-practices/homework.md).\n"
   ]
  },
  {
   "cell_type": "code",
   "execution_count": 1,
   "id": "98fff2b2",
   "metadata": {},
   "outputs": [],
   "source": [
    "from datetime import datetime\n",
    "\n",
    "import pandas as pd\n",
    "from batch import prepare_data\n",
    "from pandas.testing import assert_frame_equal"
   ]
  },
  {
   "cell_type": "markdown",
   "id": "a6af83e8",
   "metadata": {},
   "source": [
    "## Q1. Refactoring\n",
    "\n",
    "Before we can start covering our code with tests, we need to\n",
    "refactor it. We'll start by getting rid of all the global variables.\n",
    "\n",
    "- Let's create a function `main` with two parameters: `year` and\n",
    "  `month`.\n",
    "- Move all the code (except `read_data`) inside `main`\n",
    "- Make `categorical` a parameter for `read_data` and pass it inside `main`\n",
    "\n",
    "Now we need to create the \"main\" block from which we'll invoke\n",
    "the main function. How does the `if` statement that we use for\n",
    "this looks like?\n",
    "\n",
    "Hint: after refactoring, check that the code still works. Just run it e.g. for March 2023 and see if it finishes successfully.\n",
    "\n",
    "To make it easier to run it, you can write results to your local\n",
    "filesystem. E.g. here:\n",
    "\n",
    "```python\n",
    "output_file = f'taxi_type=yellow_year={year:04d}_month={month:02d}.parquet'\n",
    "```\n"
   ]
  },
  {
   "cell_type": "code",
   "execution_count": 2,
   "id": "df3f9e2f",
   "metadata": {},
   "outputs": [
    {
     "name": "stdout",
     "output_type": "stream",
     "text": [
      "Executing main...\n"
     ]
    }
   ],
   "source": [
    "if __name__ == \"__main__\":\n",
    "    print(\"Executing main...\")"
   ]
  },
  {
   "cell_type": "markdown",
   "id": "4bfb3218",
   "metadata": {},
   "source": [
    "## Q2. Installing pytest\n",
    "\n",
    "Now we need to install `pytest`:\n",
    "\n",
    "```bash\n",
    "pipenv install --dev pytest\n",
    "```\n",
    "\n",
    "Next, create a folder `tests` and create two files. One will be\n",
    "the file with tests. We can name it `test_batch.py`.\n",
    "\n",
    "What should be the other file?\n",
    "\n",
    "Hint: to be able to test `batch.py`, we need to be able to\n",
    "import it. Without this other file, we won't be able to do it.\n"
   ]
  },
  {
   "cell_type": "code",
   "execution_count": 3,
   "id": "ce201371",
   "metadata": {},
   "outputs": [
    {
     "name": "stdout",
     "output_type": "stream",
     "text": [
      "__init__.py\n"
     ]
    }
   ],
   "source": [
    "print(\"__init__.py\")"
   ]
  },
  {
   "cell_type": "markdown",
   "id": "f0d7fbd7",
   "metadata": {},
   "source": [
    "## Q3. Writing first unit test\n",
    "\n",
    "Now let's cover our code with unit tests.\n",
    "\n",
    "We'll start with the pre-processing logic inside `read_data`.\n",
    "\n",
    "It's difficult to test right now because first reads\n",
    "the file and then performs some transformations. We need to split this\n",
    "code into two parts: reading (I/O) and transformation.\n",
    "\n",
    "So let's create a function `prepare_data` that takes in a dataframe\n",
    "(and some other parameters too) and applies some transformation to it.\n",
    "\n",
    "(That's basically the entire `read_data` function after reading\n",
    "the parquet file)\n",
    "\n",
    "Now create a test and use this as input:\n",
    "\n",
    "```python\n",
    "data = [\n",
    "    (None, None, dt(1, 1), dt(1, 10)),\n",
    "    (1, 1, dt(1, 2), dt(1, 10)),\n",
    "    (1, None, dt(1, 2, 0), dt(1, 2, 59)),\n",
    "    (3, 4, dt(1, 2, 0), dt(2, 2, 1)),\n",
    "]\n",
    "\n",
    "columns = ['PULocationID', 'DOLocationID', 'tpep_pickup_datetime', 'tpep_dropoff_datetime']\n",
    "df = pd.DataFrame(data, columns=columns)\n",
    "```\n",
    "\n",
    "Where `dt` is a helper function:\n",
    "\n",
    "```python\n",
    "from datetime import datetime\n",
    "\n",
    "def dt(hour, minute, second=0):\n",
    "    return datetime(2023, 1, 1, hour, minute, second)\n",
    "```\n",
    "\n",
    "Define the expected output and use the assert to make sure\n",
    "that the actual dataframe matches the expected one.\n",
    "\n",
    "Tip: When you compare two Pandas DataFrames, the result is also a DataFrame.\n",
    "The same is true for Pandas Series. Also, a DataFrame could be turned into a list of dictionaries.\n",
    "\n",
    "How many rows should be there in the expected dataframe?\n",
    "\n",
    "- 1\n",
    "- 2\n",
    "- 3\n",
    "- 4\n"
   ]
  },
  {
   "cell_type": "code",
   "execution_count": 4,
   "id": "7d01d83e",
   "metadata": {},
   "outputs": [],
   "source": [
    "def dt(hour, minute, second=0):\n",
    "    return datetime(2023, 1, 1, hour, minute, second)\n",
    "\n",
    "\n",
    "def create_sample_df() -> pd.DataFrame:\n",
    "    data = [\n",
    "        (None, None, dt(1, 1), dt(1, 10)),\n",
    "        (1, 1, dt(1, 2), dt(1, 10)),\n",
    "        (1, None, dt(1, 2, 0), dt(1, 2, 59)),\n",
    "        (3, 4, dt(1, 2, 0), dt(2, 2, 1)),\n",
    "    ]\n",
    "\n",
    "    columns = [\"PULocationID\", \"DOLocationID\", \"tpep_pickup_datetime\", \"tpep_dropoff_datetime\"]\n",
    "    df = pd.DataFrame(data, columns=columns)\n",
    "    return df"
   ]
  },
  {
   "cell_type": "code",
   "execution_count": 5,
   "id": "a12b5fde",
   "metadata": {},
   "outputs": [],
   "source": [
    "actual_df = prepare_data(create_sample_df(), categorical=[\"PULocationID\", \"DOLocationID\"])"
   ]
  },
  {
   "cell_type": "code",
   "execution_count": 6,
   "id": "e75673a2",
   "metadata": {},
   "outputs": [
    {
     "name": "stdout",
     "output_type": "stream",
     "text": [
      "Number of rows (excluding header): 2\n"
     ]
    }
   ],
   "source": [
    "print(\"Number of rows (excluding header):\", len(actual_df))"
   ]
  },
  {
   "cell_type": "code",
   "execution_count": 7,
   "id": "c1a61036",
   "metadata": {},
   "outputs": [
    {
     "data": {
      "text/html": [
       "<div>\n",
       "<style scoped>\n",
       "    .dataframe tbody tr th:only-of-type {\n",
       "        vertical-align: middle;\n",
       "    }\n",
       "\n",
       "    .dataframe tbody tr th {\n",
       "        vertical-align: top;\n",
       "    }\n",
       "\n",
       "    .dataframe thead th {\n",
       "        text-align: right;\n",
       "    }\n",
       "</style>\n",
       "<table border=\"1\" class=\"dataframe\">\n",
       "  <thead>\n",
       "    <tr style=\"text-align: right;\">\n",
       "      <th></th>\n",
       "      <th>PULocationID</th>\n",
       "      <th>DOLocationID</th>\n",
       "      <th>tpep_pickup_datetime</th>\n",
       "      <th>tpep_dropoff_datetime</th>\n",
       "      <th>duration</th>\n",
       "    </tr>\n",
       "  </thead>\n",
       "  <tbody>\n",
       "    <tr>\n",
       "      <th>0</th>\n",
       "      <td>-1</td>\n",
       "      <td>-1</td>\n",
       "      <td>2023-01-01 01:01:00</td>\n",
       "      <td>2023-01-01 01:10:00</td>\n",
       "      <td>9.0</td>\n",
       "    </tr>\n",
       "    <tr>\n",
       "      <th>1</th>\n",
       "      <td>1</td>\n",
       "      <td>1</td>\n",
       "      <td>2023-01-01 01:02:00</td>\n",
       "      <td>2023-01-01 01:10:00</td>\n",
       "      <td>8.0</td>\n",
       "    </tr>\n",
       "  </tbody>\n",
       "</table>\n",
       "</div>"
      ],
      "text/plain": [
       "  PULocationID DOLocationID tpep_pickup_datetime tpep_dropoff_datetime  \\\n",
       "0           -1           -1  2023-01-01 01:01:00   2023-01-01 01:10:00   \n",
       "1            1            1  2023-01-01 01:02:00   2023-01-01 01:10:00   \n",
       "\n",
       "   duration  \n",
       "0       9.0  \n",
       "1       8.0  "
      ]
     },
     "execution_count": 7,
     "metadata": {},
     "output_type": "execute_result"
    }
   ],
   "source": [
    "actual_df"
   ]
  },
  {
   "cell_type": "markdown",
   "id": "0ceb1c70",
   "metadata": {},
   "source": [
    "## Q4. Mocking S3 with Localstack\n",
    "\n",
    "Now let's prepare for an integration test. In our script, we\n",
    "write data to S3. So we'll use Localstack to mimic S3.\n",
    "\n",
    "First, let's run Localstack with Docker compose. Let's create a\n",
    "`docker-compose.yaml` file with just one service: localstack. Inside\n",
    "localstack, we're only interested in running S3.\n",
    "\n",
    "Start the service and test it by creating a bucket where we'll\n",
    "keep the output. Let's call it \"nyc-duration\".\n",
    "\n",
    "With AWS CLI, this is how we create a bucket:\n",
    "\n",
    "```bash\n",
    "aws s3 mb s3://nyc-duration\n",
    "```\n",
    "\n",
    "Then we need to check that the bucket was successfully created. With AWS, this is how we typically do it:\n",
    "\n",
    "```bash\n",
    "aws s3 ls\n",
    "```\n",
    "\n",
    "In both cases we should adjust commands for localstack. What option do we need to use for such purposes?\n",
    "\n",
    "- `--backend-store-uri`\n",
    "- `--profile`\n",
    "- `--endpoint-url`\n",
    "- `--version`\n",
    "\n",
    "## Make input and output paths configurable\n",
    "\n",
    "Right now the input and output paths are hardcoded, but we want\n",
    "to change it for the tests.\n",
    "\n",
    "One of the possible ways would be to specify `INPUT_FILE_PATTERN` and `OUTPUT_FILE_PATTERN` via the env\n",
    "variables. Let's do that:\n",
    "\n",
    "```bash\n",
    "export INPUT_FILE_PATTERN=\"s3://nyc-duration/in/{year:04d}-{month:02d}.parquet\"\n",
    "export OUTPUT_FILE_PATTERN=\"s3://nyc-duration/out/{year:04d}-{month:02d}.parquet\"\n",
    "```\n",
    "\n",
    "And this is how we can read them:\n",
    "\n",
    "```python\n",
    "def get_input_path(year, month):\n",
    "    default_input_pattern = 'https://d37ci6vzurychx.cloudfront.net/trip-data/yellow_tripdata_{year:04d}-{month:02d}.parquet'\n",
    "    input_pattern = os.getenv('INPUT_FILE_PATTERN', default_input_pattern)\n",
    "    return input_pattern.format(year=year, month=month)\n",
    "\n",
    "\n",
    "def get_output_path(year, month):\n",
    "    default_output_pattern = 's3://nyc-duration-prediction-alexey/taxi_type=fhv/year={year:04d}/month={month:02d}/predictions.parquet'\n",
    "    output_pattern = os.getenv('OUTPUT_FILE_PATTERN', default_output_pattern)\n",
    "    return output_pattern.format(year=year, month=month)\n",
    "\n",
    "\n",
    "def main(year, month):\n",
    "    input_file = get_input_path(year, month)\n",
    "    output_file = get_output_path(year, month)\n",
    "    # rest of the main function ...\n",
    "```\n",
    "\n",
    "## Reading from Localstack S3 with Pandas\n",
    "\n",
    "So far we've been reading parquet files from S3 with using\n",
    "pandas `read_parquet`. But this way we read it from the\n",
    "actual S3 service. Now we need to replace it with our localstack\n",
    "one.\n",
    "\n",
    "For that, we need to specify the endpoint url:\n",
    "\n",
    "```python\n",
    "options = {\n",
    "    'client_kwargs': {\n",
    "        'endpoint_url': S3_ENDPOINT_URL\n",
    "    }\n",
    "}\n",
    "\n",
    "df = pd.read_parquet('s3://bucket/file.parquet', storage_options=options)\n",
    "```\n",
    "\n",
    "Let's modify our `read_data` function:\n",
    "\n",
    "- check if `S3_ENDPOINT_URL` is set, and if it is, use it for reading\n",
    "- otherwise use the usual way\n"
   ]
  },
  {
   "cell_type": "code",
   "execution_count": 8,
   "id": "671cbac1",
   "metadata": {},
   "outputs": [
    {
     "name": "stdout",
     "output_type": "stream",
     "text": [
      "We should use --endpoint-url\n",
      "Like this: aws --endpoint-url=http://localhost:4566 s3 mb s3://nyc-duration\n",
      "Or like this: aws --endpoint-url=http://localhost:4566 s3 ls\n"
     ]
    }
   ],
   "source": [
    "print(\"We should use --endpoint-url\")\n",
    "\n",
    "print(\"Like this: aws --endpoint-url=http://localhost:4566 s3 mb s3://nyc-duration\")\n",
    "print(\"Or like this: aws --endpoint-url=http://localhost:4566 s3 ls\")"
   ]
  },
  {
   "cell_type": "markdown",
   "id": "ca4e2d11",
   "metadata": {},
   "source": [
    "## Q5. Creating test data\n",
    "\n",
    "Now let's create `integration_test.py`\n",
    "\n",
    "We'll use the dataframe we created in Q3 (the dataframe for the unit test)\n",
    "and save it to S3. You don't need to do anything else: just create a dataframe\n",
    "and save it.\n",
    "\n",
    "We will pretend that this is data for January 2023.\n",
    "\n",
    "Run the `integration_test.py` script. After that, use AWS CLI to verify that the\n",
    "file was created.\n",
    "\n",
    "Use this snipped for saving the file:\n",
    "\n",
    "```python\n",
    "df_input.to_parquet(\n",
    "    input_file,\n",
    "    engine='pyarrow',\n",
    "    compression=None,\n",
    "    index=False,\n",
    "    storage_options=options\n",
    ")\n",
    "```\n",
    "\n",
    "What's the size of the file?\n",
    "\n",
    "- 3620\n",
    "- 23620\n",
    "- 43620\n",
    "- 63620\n",
    "\n",
    "Note: it's important to use the code from the snippet for saving\n",
    "the file. Otherwise the size may be different depending on the OS,\n",
    "engine and compression. Even if you use this exact snippet, the size\n",
    "of your dataframe may still be a bit off. Just select the closest option.\n"
   ]
  },
  {
   "cell_type": "code",
   "execution_count": 9,
   "id": "e92f3d6d",
   "metadata": {},
   "outputs": [
    {
     "name": "stdout",
     "output_type": "stream",
     "text": [
      "2025-06-29 21:05:04       3578 taxi_type=yellow/year=2023/month=01/input.parquet\n",
      "2025-06-29 21:05:05       1789 taxi_type=yellow/year=2023/month=01/output.parquet\n",
      "2025-06-29 20:35:12       3578 taxi_type=yellow/year=2023/month=01/predictions.parquet\n"
     ]
    }
   ],
   "source": [
    "!aws --endpoint-url=http://localhost:4566 s3 ls s3://nyc-duration --recursive"
   ]
  },
  {
   "cell_type": "code",
   "execution_count": 10,
   "id": "54ed45f8",
   "metadata": {},
   "outputs": [
    {
     "name": "stdout",
     "output_type": "stream",
     "text": [
      "Parquet size: 3578\n"
     ]
    }
   ],
   "source": [
    "print(\"Parquet size: 3578\")"
   ]
  },
  {
   "cell_type": "markdown",
   "id": "9d00bb20",
   "metadata": {},
   "source": [
    "## Q6. Finish the integration test\n",
    "\n",
    "We can read from our localstack s3, but we also need to write to it.\n",
    "\n",
    "Create a function `save_data` which works similarly to `read_data`,\n",
    "but we use it for saving a dataframe.\n",
    "\n",
    "Let's run the `batch.py` script for January 2023 (the fake data\n",
    "we created in Q5).\n",
    "\n",
    "We can do that from our integration test in Python: we can use\n",
    "`os.system` for doing that (there are other options too).\n",
    "\n",
    "Now it saves the result to localstack.\n",
    "\n",
    "The only thing we need to do now is to read this data and\n",
    "verify the result is correct.\n",
    "\n",
    "What's the sum of predicted durations for the test dataframe?\n",
    "\n",
    "- 13.08\n",
    "- 36.28\n",
    "- 69.28\n",
    "- 81.08\n",
    "\n",
    "## Running the test (ungraded)\n",
    "\n",
    "The rest is ready, but we need to write a shell script for doing\n",
    "that.\n",
    "\n",
    "Let's do that!\n"
   ]
  },
  {
   "cell_type": "code",
   "execution_count": 11,
   "id": "310f5b4a",
   "metadata": {},
   "outputs": [
    {
     "name": "stderr",
     "output_type": "stream",
     "text": [
      "/Users/lorenzocesconetto/Developer/Tutorials/zoomcamp-mlops-2025/.venv/lib/python3.12/site-packages/fsspec/registry.py:286: UserWarning: Your installed version of s3fs is very old and known to cause\n",
      "severe performance issues, see also https://github.com/dask/dask/issues/10276\n",
      "\n",
      "To fix, you should specify a lower version bound on s3fs, or\n",
      "update the current installation.\n",
      "\n",
      "  warnings.warn(s3_msg)\n"
     ]
    }
   ],
   "source": [
    "path = \"s3://nyc-duration/taxi_type=yellow/year=2023/month=01/output.parquet\"\n",
    "options = {\"client_kwargs\": {\"endpoint_url\": \"http://localhost:4566\"}}\n",
    "df = pd.read_parquet(path, storage_options=options)"
   ]
  },
  {
   "cell_type": "code",
   "execution_count": 12,
   "id": "168f1844",
   "metadata": {},
   "outputs": [
    {
     "data": {
      "text/html": [
       "<div>\n",
       "<style scoped>\n",
       "    .dataframe tbody tr th:only-of-type {\n",
       "        vertical-align: middle;\n",
       "    }\n",
       "\n",
       "    .dataframe tbody tr th {\n",
       "        vertical-align: top;\n",
       "    }\n",
       "\n",
       "    .dataframe thead th {\n",
       "        text-align: right;\n",
       "    }\n",
       "</style>\n",
       "<table border=\"1\" class=\"dataframe\">\n",
       "  <thead>\n",
       "    <tr style=\"text-align: right;\">\n",
       "      <th></th>\n",
       "      <th>ride_id</th>\n",
       "      <th>predicted_duration</th>\n",
       "      <th>taxi_type</th>\n",
       "      <th>year</th>\n",
       "      <th>month</th>\n",
       "    </tr>\n",
       "  </thead>\n",
       "  <tbody>\n",
       "    <tr>\n",
       "      <th>0</th>\n",
       "      <td>2023/01_0</td>\n",
       "      <td>23.197149</td>\n",
       "      <td>yellow</td>\n",
       "      <td>2023</td>\n",
       "      <td>1</td>\n",
       "    </tr>\n",
       "    <tr>\n",
       "      <th>1</th>\n",
       "      <td>2023/01_1</td>\n",
       "      <td>13.080101</td>\n",
       "      <td>yellow</td>\n",
       "      <td>2023</td>\n",
       "      <td>1</td>\n",
       "    </tr>\n",
       "  </tbody>\n",
       "</table>\n",
       "</div>"
      ],
      "text/plain": [
       "     ride_id  predicted_duration taxi_type  year month\n",
       "0  2023/01_0           23.197149    yellow  2023     1\n",
       "1  2023/01_1           13.080101    yellow  2023     1"
      ]
     },
     "execution_count": 12,
     "metadata": {},
     "output_type": "execute_result"
    }
   ],
   "source": [
    "df.head()"
   ]
  },
  {
   "cell_type": "code",
   "execution_count": 13,
   "id": "d828dfb8",
   "metadata": {},
   "outputs": [
    {
     "name": "stdout",
     "output_type": "stream",
     "text": [
      "Sum of predicted durations: 36.28\n"
     ]
    }
   ],
   "source": [
    "print(f\"Sum of predicted durations: {df.predicted_duration.sum():.2f}\")"
   ]
  },
  {
   "cell_type": "code",
   "execution_count": null,
   "id": "c48eee94",
   "metadata": {},
   "outputs": [],
   "source": []
  }
 ],
 "metadata": {
  "kernelspec": {
   "display_name": ".venv",
   "language": "python",
   "name": "python3"
  },
  "language_info": {
   "codemirror_mode": {
    "name": "ipython",
    "version": 3
   },
   "file_extension": ".py",
   "mimetype": "text/x-python",
   "name": "python",
   "nbconvert_exporter": "python",
   "pygments_lexer": "ipython3",
   "version": "3.12.10"
  }
 },
 "nbformat": 4,
 "nbformat_minor": 5
}
