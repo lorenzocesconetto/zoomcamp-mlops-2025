{
 "cells": [
  {
   "cell_type": "markdown",
   "id": "31a561dc",
   "metadata": {},
   "source": [
    "# Homework 2: Experiment tracking and model management\n",
    "\n",
    "## By: Lorenzo Cesconetto\n",
    "\n",
    "Check out all the questions [here](https://github.com/DataTalksClub/mlops-zoomcamp/blob/main/cohorts/2025/02-experiment-tracking/homework.md).\n"
   ]
  },
  {
   "cell_type": "markdown",
   "id": "46d05781",
   "metadata": {},
   "source": [
    "# Question 1: Install MLflow\n",
    "\n",
    "To get started with MLflow you'll need to install the MLflow Python package.\n",
    "\n",
    "For this we recommend creating a separate Python environment, for example, you can use conda environments, and then install the package there with `pip` or `conda`.\n",
    "\n",
    "Once you installed the package, run the command `mlflow --version` and check the output.\n",
    "\n",
    "What's the version that you have?\n"
   ]
  },
  {
   "cell_type": "code",
   "execution_count": 1,
   "id": "cbc5ea86",
   "metadata": {},
   "outputs": [
    {
     "name": "stdout",
     "output_type": "stream",
     "text": [
      "mlflow, version 2.22.0\n"
     ]
    }
   ],
   "source": [
    "!mlflow --version"
   ]
  },
  {
   "cell_type": "markdown",
   "id": "c6f4c1bd",
   "metadata": {},
   "source": [
    "# Questions 2: Download and preprocess the data\n",
    "\n",
    "We'll use the Green Taxi Trip Records dataset to predict the duration of each trip.\n",
    "\n",
    "Download the data for January, February and March 2023 in parquet format from [here](https://www1.nyc.gov/site/tlc/about/tlc-trip-record-data.page).\n",
    "\n",
    "Use the script `preprocess_data.py` located in the folder [`homework`](homework) to preprocess the data.\n",
    "\n",
    "The script will:\n",
    "\n",
    "- load the data from the folder `<TAXI_DATA_FOLDER>` (the folder where you have downloaded the data),\n",
    "- fit a `DictVectorizer` on the training set (January 2023 data),\n",
    "- save the preprocessed datasets and the `DictVectorizer` to disk.\n",
    "\n",
    "Your task is to download the datasets and then execute this command:\n",
    "\n",
    "```\n",
    "python preprocess_data.py --raw_data_path <TAXI_DATA_FOLDER> --dest_path ./output\n",
    "```\n",
    "\n",
    "Tip: go to `02-experiment-tracking/homework/` folder before executing the command and change the value of `<TAXI_DATA_FOLDER>` to the location where you saved the data.\n",
    "\n",
    "How many files were saved to `OUTPUT_FOLDER`?\n",
    "\n",
    "- 1\n",
    "- 3\n",
    "- 4\n",
    "- 7\n"
   ]
  },
  {
   "cell_type": "code",
   "execution_count": 2,
   "id": "dfb46d8c",
   "metadata": {},
   "outputs": [],
   "source": [
    "from urllib.request import urlretrieve\n",
    "import os\n",
    "\n",
    "for month in range(1, 4):\n",
    "    month_str = str(month).zfill(2)\n",
    "    url = (\n",
    "        f\"https://d37ci6vzurychx.cloudfront.net/trip-data/green_tripdata_2023-{month_str}.parquet\"\n",
    "    )\n",
    "    filename = f\"./tmp_data/{os.path.basename(url)}\"\n",
    "    urlretrieve(url, filename)"
   ]
  },
  {
   "cell_type": "code",
   "execution_count": 3,
   "id": "4552c4e4",
   "metadata": {},
   "outputs": [],
   "source": [
    "!python preprocess_data.py --raw_data_path tmp_data --dest_path ./output"
   ]
  },
  {
   "cell_type": "code",
   "execution_count": 5,
   "id": "4d7cdd78",
   "metadata": {},
   "outputs": [
    {
     "name": "stdout",
     "output_type": "stream",
     "text": [
      "File count        4\n"
     ]
    }
   ],
   "source": [
    "!echo \"File count $(ls output | wc -l)\" "
   ]
  },
  {
   "cell_type": "markdown",
   "id": "346ef1d7",
   "metadata": {},
   "source": [
    "# Question 3: Train a model with autolog\n",
    "\n",
    "We will train a `RandomForestRegressor` (from Scikit-Learn) on the taxi dataset.\n",
    "\n",
    "We have prepared the training script `train.py` for this exercise, which can be also found in the folder [`homework`](homework).\n",
    "\n",
    "The script will:\n",
    "\n",
    "- load the datasets produced by the previous step,\n",
    "- train the model on the training set,\n",
    "- calculate the RMSE score on the validation set.\n",
    "\n",
    "Your task is to modify the script to enable **autologging** with MLflow, execute the script and then launch the MLflow UI to check that the experiment run was properly tracked.\n",
    "\n",
    "Tip 1: don't forget to wrap the training code with a `with mlflow.start_run():` statement as we showed in the videos.\n",
    "\n",
    "Tip 2: don't modify the hyperparameters of the model to make sure that the training will finish quickly.\n",
    "\n",
    "What is the value of the `min_samples_split` parameter:\n",
    "\n",
    "- 2\n",
    "- 4\n",
    "- 8\n",
    "- 10\n"
   ]
  },
  {
   "cell_type": "code",
   "execution_count": 6,
   "id": "51df9df9",
   "metadata": {},
   "outputs": [
    {
     "name": "stdout",
     "output_type": "stream",
     "text": [
      "2025/05/25 21:16:29 INFO mlflow.utils.autologging_utils: Created MLflow autologging run with ID '3042f2e126264cd4b2db4e1420dc3a87', which will track hyperparameters, performance metrics, model artifacts, and lineage information for the current sklearn workflow\n",
      "2025/05/25 21:16:39 WARNING mlflow.utils.environment: Failed to resolve installed pip version. ``pip`` will be added to conda.yaml environment spec without a version specifier.\n"
     ]
    }
   ],
   "source": [
    "!python train.py"
   ]
  },
  {
   "cell_type": "code",
   "execution_count": 7,
   "id": "ab5ea95f",
   "metadata": {},
   "outputs": [
    {
     "name": "stdout",
     "output_type": "stream",
     "text": [
      "min_samples_split: 2\n"
     ]
    }
   ],
   "source": [
    "!echo \"min_samples_split: $(cat $(ls ./mlruns/0/*/params/min_samples_split | head -1))\"\n"
   ]
  },
  {
   "cell_type": "markdown",
   "id": "891cfd5b",
   "metadata": {},
   "source": [
    "## Question 4: Launch the tracking server locally\n",
    "\n",
    "Now we want to manage the entire lifecycle of our ML model. In this step, you'll need to launch a tracking server. This way we will also have access to the model registry.\n",
    "\n",
    "Your task is to:\n",
    "\n",
    "- launch the tracking server on your local machine,\n",
    "- select a SQLite db for the backend store and a folder called `artifacts` for the artifacts store.\n",
    "\n",
    "You should keep the tracking server running to work on the next two exercises that use the server.\n",
    "\n",
    "In addition to `backend-store-uri`, what else do you need to pass to properly configure the server?\n",
    "\n",
    "- `default-artifact-root`\n",
    "- `serve-artifacts`\n",
    "- `artifacts-only`\n",
    "- `artifacts-destination`\n"
   ]
  },
  {
   "cell_type": "markdown",
   "id": "7c137dfe",
   "metadata": {},
   "source": [
    "---\n",
    "\n",
    "The answer is `default-artifact-root`, the instructor came across that exact same error during the classes.\n",
    "But in my case it worked without it, it's probably because I am using a later version of `mlflow`!\n"
   ]
  },
  {
   "cell_type": "code",
   "execution_count": 7,
   "id": "9c6d2175",
   "metadata": {},
   "outputs": [
    {
     "name": "stdout",
     "output_type": "stream",
     "text": [
      "2025/05/25 21:13:52 INFO mlflow.store.db.utils: Creating initial MLflow database tables...\n",
      "2025/05/25 21:13:53 INFO mlflow.store.db.utils: Updating database tables\n",
      "INFO  [alembic.runtime.migration] Context impl SQLiteImpl.\n",
      "INFO  [alembic.runtime.migration] Will assume non-transactional DDL.\n",
      "INFO  [alembic.runtime.migration] Running upgrade  -> 451aebb31d03, add metric step\n",
      "INFO  [alembic.runtime.migration] Running upgrade 451aebb31d03 -> 90e64c465722, migrate user column to tags\n",
      "INFO  [alembic.runtime.migration] Running upgrade 90e64c465722 -> 181f10493468, allow nulls for metric values\n",
      "INFO  [alembic.runtime.migration] Running upgrade 181f10493468 -> df50e92ffc5e, Add Experiment Tags Table\n",
      "INFO  [alembic.runtime.migration] Running upgrade df50e92ffc5e -> 7ac759974ad8, Update run tags with larger limit\n",
      "INFO  [alembic.runtime.migration] Running upgrade 7ac759974ad8 -> 89d4b8295536, create latest metrics table\n",
      "INFO  [89d4b8295536_create_latest_metrics_table_py] Migration complete!\n",
      "INFO  [alembic.runtime.migration] Running upgrade 89d4b8295536 -> 2b4d017a5e9b, add model registry tables to db\n",
      "INFO  [2b4d017a5e9b_add_model_registry_tables_to_db_py] Adding registered_models and model_versions tables to database.\n",
      "INFO  [2b4d017a5e9b_add_model_registry_tables_to_db_py] Migration complete!\n",
      "INFO  [alembic.runtime.migration] Running upgrade 2b4d017a5e9b -> cfd24bdc0731, Update run status constraint with killed\n",
      "INFO  [alembic.runtime.migration] Running upgrade cfd24bdc0731 -> 0a8213491aaa, drop_duplicate_killed_constraint\n",
      "INFO  [alembic.runtime.migration] Running upgrade 0a8213491aaa -> 728d730b5ebd, add registered model tags table\n",
      "INFO  [alembic.runtime.migration] Running upgrade 728d730b5ebd -> 27a6a02d2cf1, add model version tags table\n",
      "INFO  [alembic.runtime.migration] Running upgrade 27a6a02d2cf1 -> 84291f40a231, add run_link to model_version\n",
      "INFO  [alembic.runtime.migration] Running upgrade 84291f40a231 -> a8c4a736bde6, allow nulls for run_id\n",
      "INFO  [alembic.runtime.migration] Running upgrade a8c4a736bde6 -> 39d1c3be5f05, add_is_nan_constraint_for_metrics_tables_if_necessary\n",
      "INFO  [alembic.runtime.migration] Running upgrade 39d1c3be5f05 -> c48cb773bb87, reset_default_value_for_is_nan_in_metrics_table_for_mysql\n",
      "INFO  [alembic.runtime.migration] Running upgrade c48cb773bb87 -> bd07f7e963c5, create index on run_uuid\n",
      "INFO  [alembic.runtime.migration] Running upgrade bd07f7e963c5 -> 0c779009ac13, add deleted_time field to runs table\n",
      "INFO  [alembic.runtime.migration] Running upgrade 0c779009ac13 -> cc1f77228345, change param value length to 500\n",
      "INFO  [alembic.runtime.migration] Running upgrade cc1f77228345 -> 97727af70f4d, Add creation_time and last_update_time to experiments table\n",
      "INFO  [alembic.runtime.migration] Running upgrade 97727af70f4d -> 3500859a5d39, Add Model Aliases table\n",
      "INFO  [alembic.runtime.migration] Running upgrade 3500859a5d39 -> 7f2a7d5fae7d, add datasets inputs input_tags tables\n",
      "INFO  [alembic.runtime.migration] Running upgrade 7f2a7d5fae7d -> 2d6e25af4d3e, increase max param val length from 500 to 8000\n",
      "INFO  [alembic.runtime.migration] Running upgrade 2d6e25af4d3e -> acf3f17fdcc7, add storage location field to model versions\n",
      "INFO  [alembic.runtime.migration] Running upgrade acf3f17fdcc7 -> 867495a8f9d4, add trace tables\n",
      "INFO  [alembic.runtime.migration] Running upgrade 867495a8f9d4 -> 5b0e9adcef9c, add cascade deletion to trace tables foreign keys\n",
      "INFO  [alembic.runtime.migration] Running upgrade 5b0e9adcef9c -> 4465047574b1, increase max dataset schema size\n",
      "INFO  [alembic.runtime.migration] Running upgrade 4465047574b1 -> f5a4f2784254, increase run tag value limit to 8000\n",
      "INFO  [alembic.runtime.migration] Running upgrade f5a4f2784254 -> 0584bdc529eb, add cascading deletion to datasets from experiments\n",
      "INFO  [alembic.runtime.migration] Context impl SQLiteImpl.\n",
      "INFO  [alembic.runtime.migration] Will assume non-transactional DDL.\n",
      "[2025-05-25 21:13:53 -0300] [20382] [INFO] Starting gunicorn 23.0.0\n",
      "[2025-05-25 21:13:53 -0300] [20382] [ERROR] Connection in use: ('127.0.0.1', 5000)\n",
      "[2025-05-25 21:13:53 -0300] [20382] [ERROR] connection to ('127.0.0.1', 5000) failed: [Errno 48] Address already in use\n",
      "[2025-05-25 21:13:54 -0300] [20382] [ERROR] Connection in use: ('127.0.0.1', 5000)\n",
      "[2025-05-25 21:13:54 -0300] [20382] [ERROR] connection to ('127.0.0.1', 5000) failed: [Errno 48] Address already in use\n",
      "[2025-05-25 21:13:55 -0300] [20382] [ERROR] Connection in use: ('127.0.0.1', 5000)\n",
      "[2025-05-25 21:13:55 -0300] [20382] [ERROR] connection to ('127.0.0.1', 5000) failed: [Errno 48] Address already in use\n",
      "[2025-05-25 21:13:56 -0300] [20382] [ERROR] Connection in use: ('127.0.0.1', 5000)\n",
      "[2025-05-25 21:13:56 -0300] [20382] [ERROR] connection to ('127.0.0.1', 5000) failed: [Errno 48] Address already in use\n",
      "[2025-05-25 21:13:57 -0300] [20382] [ERROR] Connection in use: ('127.0.0.1', 5000)\n",
      "[2025-05-25 21:13:57 -0300] [20382] [ERROR] connection to ('127.0.0.1', 5000) failed: [Errno 48] Address already in use\n",
      "[2025-05-25 21:13:58 -0300] [20382] [ERROR] Can't connect to ('127.0.0.1', 5000)\n",
      "Running the mlflow server failed. Please see the logs above for details.\n"
     ]
    }
   ],
   "source": [
    "!mlflow server --backend-store-uri sqlite:///backend.db"
   ]
  },
  {
   "cell_type": "code",
   "execution_count": 8,
   "id": "efa50c16",
   "metadata": {},
   "outputs": [
    {
     "name": "stdout",
     "output_type": "stream",
     "text": [
      "[2025-05-25 21:14:00 -0300] [20472] [INFO] Starting gunicorn 23.0.0\n",
      "[2025-05-25 21:14:00 -0300] [20472] [ERROR] Connection in use: ('127.0.0.1', 5000)\n",
      "[2025-05-25 21:14:00 -0300] [20472] [ERROR] connection to ('127.0.0.1', 5000) failed: [Errno 48] Address already in use\n",
      "[2025-05-25 21:14:01 -0300] [20472] [ERROR] Connection in use: ('127.0.0.1', 5000)\n",
      "[2025-05-25 21:14:01 -0300] [20472] [ERROR] connection to ('127.0.0.1', 5000) failed: [Errno 48] Address already in use\n",
      "[2025-05-25 21:14:02 -0300] [20472] [ERROR] Connection in use: ('127.0.0.1', 5000)\n",
      "[2025-05-25 21:14:02 -0300] [20472] [ERROR] connection to ('127.0.0.1', 5000) failed: [Errno 48] Address already in use\n",
      "[2025-05-25 21:14:03 -0300] [20472] [ERROR] Connection in use: ('127.0.0.1', 5000)\n",
      "[2025-05-25 21:14:03 -0300] [20472] [ERROR] connection to ('127.0.0.1', 5000) failed: [Errno 48] Address already in use\n",
      "[2025-05-25 21:14:04 -0300] [20472] [ERROR] Connection in use: ('127.0.0.1', 5000)\n",
      "[2025-05-25 21:14:04 -0300] [20472] [ERROR] connection to ('127.0.0.1', 5000) failed: [Errno 48] Address already in use\n",
      "[2025-05-25 21:14:05 -0300] [20472] [ERROR] Can't connect to ('127.0.0.1', 5000)\n",
      "Running the mlflow server failed. Please see the logs above for details.\n"
     ]
    }
   ],
   "source": [
    "!mlflow server --backend-store-uri sqlite:///backend.db --default-artifact-root ./artifacts"
   ]
  },
  {
   "cell_type": "markdown",
   "id": "5131e40b",
   "metadata": {},
   "source": [
    "## Q5. Tune model hyperparameters\n",
    "\n",
    "Now let's try to reduce the validation error by tuning the hyperparameters of the `RandomForestRegressor` using `hyperopt`.\n",
    "We have prepared the script `hpo.py` for this exercise.\n",
    "\n",
    "Your task is to modify the script `hpo.py` and make sure that the validation RMSE is logged to the tracking server for each run of the hyperparameter optimization (you will need to add a few lines of code to the `objective` function) and run the script without passing any parameters.\n",
    "\n",
    "After that, open UI and explore the runs from the experiment called `random-forest-hyperopt` to answer the question below.\n",
    "\n",
    "Note: Don't use autologging for this exercise.\n",
    "\n",
    "The idea is to just log the information that you need to answer the question below, including:\n",
    "\n",
    "- the list of hyperparameters that are passed to the `objective` function during the optimization,\n",
    "- the RMSE obtained on the validation set (February 2023 data).\n",
    "\n",
    "What's the best validation RMSE that you got?\n",
    "\n",
    "- 4.817\n",
    "- 5.335\n",
    "- 5.818\n",
    "- 6.336\n"
   ]
  },
  {
   "cell_type": "code",
   "execution_count": 8,
   "id": "a50bc647",
   "metadata": {},
   "outputs": [
    {
     "name": "stdout",
     "output_type": "stream",
     "text": [
      "2025/05/25 21:17:21 INFO mlflow.tracking.fluent: Experiment with name 'random-forest-hyperopt' does not exist. Creating a new experiment.\n",
      "🏃 View run debonair-wasp-98 at: http://127.0.0.1:5000/#/experiments/1/runs/2439abf7a2ca43d3a620927223ae2446\n",
      "\n",
      "🧪 View experiment at: http://127.0.0.1:5000/#/experiments/1                    \n",
      "\n",
      "🏃 View run enchanting-moth-178 at: http://127.0.0.1:5000/#/experiments/1/runs/02239dca8bb14ecd8012d1e495af47ba\n",
      "\n",
      "🧪 View experiment at: http://127.0.0.1:5000/#/experiments/1                    \n",
      "\n",
      "🏃 View run bittersweet-colt-855 at: http://127.0.0.1:5000/#/experiments/1/runs/bb95264eabbc4da7bb45761d61dc7a18\n",
      "\n",
      "🧪 View experiment at: http://127.0.0.1:5000/#/experiments/1                    \n",
      "\n",
      "🏃 View run fun-fox-101 at: http://127.0.0.1:5000/#/experiments/1/runs/a37ad49a20cf463ab4a63d6ff567d9a9\n",
      "\n",
      "🧪 View experiment at: http://127.0.0.1:5000/#/experiments/1                    \n",
      "\n",
      "🏃 View run calm-lark-451 at: http://127.0.0.1:5000/#/experiments/1/runs/683005979d764b83bced7075928f66fe\n",
      "\n",
      "🧪 View experiment at: http://127.0.0.1:5000/#/experiments/1                    \n",
      "\n",
      "🏃 View run kindly-turtle-627 at: http://127.0.0.1:5000/#/experiments/1/runs/12c61b381f714f45bd0c658ad8895e24\n",
      "\n",
      "🧪 View experiment at: http://127.0.0.1:5000/#/experiments/1                    \n",
      "\n",
      "🏃 View run intrigued-steed-821 at: http://127.0.0.1:5000/#/experiments/1/runs/ac76b8028bca405cbeb2552dbe2bef5e\n",
      "\n",
      "🧪 View experiment at: http://127.0.0.1:5000/#/experiments/1                    \n",
      "\n",
      "🏃 View run sedate-turtle-40 at: http://127.0.0.1:5000/#/experiments/1/runs/61a3ada28d104e12a380ecb0bfc89c30\n",
      "\n",
      "🧪 View experiment at: http://127.0.0.1:5000/#/experiments/1                    \n",
      "\n",
      "🏃 View run tasteful-bear-108 at: http://127.0.0.1:5000/#/experiments/1/runs/30ccfe2e2b5a4c2cafd522785856b16e\n",
      "\n",
      "🧪 View experiment at: http://127.0.0.1:5000/#/experiments/1                    \n",
      "\n",
      "🏃 View run clumsy-crab-217 at: http://127.0.0.1:5000/#/experiments/1/runs/18e9edc3463241e7b9f5f724b7dd7604\n",
      "\n",
      "🧪 View experiment at: http://127.0.0.1:5000/#/experiments/1                    \n",
      "\n",
      "🏃 View run rebellious-crow-289 at: http://127.0.0.1:5000/#/experiments/1/runs/9e7042ac29814f2aa1b3f6c5da9890b2\n",
      "\n",
      "🧪 View experiment at: http://127.0.0.1:5000/#/experiments/1                    \n",
      "\n",
      "🏃 View run bald-asp-341 at: http://127.0.0.1:5000/#/experiments/1/runs/f8c38ef40dc4440f982bb06656f0b438\n",
      "\n",
      "🧪 View experiment at: http://127.0.0.1:5000/#/experiments/1                    \n",
      "\n",
      "🏃 View run melodic-shrew-64 at: http://127.0.0.1:5000/#/experiments/1/runs/7e89aae92dd34b63b762789a492b906b\n",
      "\n",
      "🧪 View experiment at: http://127.0.0.1:5000/#/experiments/1                    \n",
      "\n",
      "🏃 View run puzzled-snail-217 at: http://127.0.0.1:5000/#/experiments/1/runs/177aa0c4716a4a90b4a16c792c27baad\n",
      "\n",
      "🧪 View experiment at: http://127.0.0.1:5000/#/experiments/1                    \n",
      "\n",
      "🏃 View run blushing-fish-620 at: http://127.0.0.1:5000/#/experiments/1/runs/5feb089340c64a8495cd30a9e646dd98\n",
      "\n",
      "🧪 View experiment at: http://127.0.0.1:5000/#/experiments/1                    \n",
      "\n",
      "100%|██████████| 15/15 [00:31<00:00,  2.08s/trial, best loss: 5.335419588556921]\n"
     ]
    }
   ],
   "source": [
    "!python hpo.py"
   ]
  },
  {
   "cell_type": "markdown",
   "id": "d9ef2d58",
   "metadata": {},
   "source": [
    "---\n",
    "\n",
    "**Answer:** best RMSE = 5.335\n"
   ]
  },
  {
   "cell_type": "markdown",
   "id": "cb5dfbaa",
   "metadata": {},
   "source": [
    "# Question 6: Promote the best model to the model registry\n",
    "\n",
    "The results from the hyperparameter optimization are quite good. So, we can assume that we are ready to test some of these models in production.\n",
    "In this exercise, you'll promote the best model to the model registry. We have prepared a script called `register_model.py`, which will check the results from the previous step and select the top 5 runs.\n",
    "After that, it will calculate the RMSE of those models on the test set (March 2023 data) and save the results to a new experiment called `random-forest-best-models`.\n",
    "\n",
    "Your task is to update the script `register_model.py` so that it selects the model with the lowest RMSE on the test set and registers it to the model registry.\n",
    "\n",
    "Tip 1: you can use the method `search_runs` from the `MlflowClient` to get the model with the lowest RMSE,\n",
    "\n",
    "Tip 2: to register the model you can use the method `mlflow.register_model` and you will need to pass the right `model_uri` in the form of a string that looks like this: `\"runs:/<RUN_ID>/model\"`, and the name of the model (make sure to choose a good one!).\n",
    "\n",
    "What is the test RMSE of the best model?\n",
    "\n",
    "- 5.060\n",
    "- 5.567\n",
    "- 6.061\n",
    "- 6.568\n"
   ]
  },
  {
   "cell_type": "code",
   "execution_count": 9,
   "id": "2568a040",
   "metadata": {},
   "outputs": [
    {
     "name": "stdout",
     "output_type": "stream",
     "text": [
      "2025/05/25 21:17:55 INFO mlflow.tracking.fluent: Experiment with name 'random-forest-best-models' does not exist. Creating a new experiment.\n",
      "2025/05/25 21:18:01 WARNING mlflow.utils.environment: Failed to resolve installed pip version. ``pip`` will be added to conda.yaml environment spec without a version specifier.\n",
      "🏃 View run youthful-croc-518 at: http://127.0.0.1:5000/#/experiments/2/runs/251a87a03e70411492337fcdf4c749f2\n",
      "🧪 View experiment at: http://127.0.0.1:5000/#/experiments/2\n",
      "2025/05/25 21:18:10 WARNING mlflow.utils.environment: Failed to resolve installed pip version. ``pip`` will be added to conda.yaml environment spec without a version specifier.\n",
      "🏃 View run unique-hen-238 at: http://127.0.0.1:5000/#/experiments/2/runs/79ef432446b4474281a92dbd59a6b31a\n",
      "🧪 View experiment at: http://127.0.0.1:5000/#/experiments/2\n",
      "2025/05/25 21:18:18 WARNING mlflow.utils.environment: Failed to resolve installed pip version. ``pip`` will be added to conda.yaml environment spec without a version specifier.\n",
      "🏃 View run gaudy-shrimp-865 at: http://127.0.0.1:5000/#/experiments/2/runs/9f6377bfd4f64048a56d2688c3c4027c\n",
      "🧪 View experiment at: http://127.0.0.1:5000/#/experiments/2\n",
      "2025/05/25 21:18:26 WARNING mlflow.utils.environment: Failed to resolve installed pip version. ``pip`` will be added to conda.yaml environment spec without a version specifier.\n",
      "🏃 View run mysterious-newt-500 at: http://127.0.0.1:5000/#/experiments/2/runs/8c8c67e3ff1340418d53c8a56c5ac511\n",
      "🧪 View experiment at: http://127.0.0.1:5000/#/experiments/2\n",
      "2025/05/25 21:18:34 WARNING mlflow.utils.environment: Failed to resolve installed pip version. ``pip`` will be added to conda.yaml environment spec without a version specifier.\n",
      "🏃 View run charming-goose-577 at: http://127.0.0.1:5000/#/experiments/2/runs/bc974227988d41a188d551bb41ea2ee9\n",
      "🧪 View experiment at: http://127.0.0.1:5000/#/experiments/2\n",
      "Successfully registered model 'rf_nyc_taxi_trip_duration'.\n",
      "2025/05/25 21:18:37 INFO mlflow.store.model_registry.abstract_store: Waiting up to 300 seconds for model version to finish creation. Model name: rf_nyc_taxi_trip_duration, version 1\n",
      "Created version '1' of model 'rf_nyc_taxi_trip_duration'.\n"
     ]
    }
   ],
   "source": [
    "!python register_model.py"
   ]
  },
  {
   "cell_type": "markdown",
   "id": "a72a026e",
   "metadata": {},
   "source": [
    "---\n",
    "\n",
    "**Answer:** best test RMSE = 5.567\n"
   ]
  }
 ],
 "metadata": {
  "kernelspec": {
   "display_name": ".venv",
   "language": "python",
   "name": "python3"
  },
  "language_info": {
   "codemirror_mode": {
    "name": "ipython",
    "version": 3
   },
   "file_extension": ".py",
   "mimetype": "text/x-python",
   "name": "python",
   "nbconvert_exporter": "python",
   "pygments_lexer": "ipython3",
   "version": "3.12.3"
  }
 },
 "nbformat": 4,
 "nbformat_minor": 5
}
